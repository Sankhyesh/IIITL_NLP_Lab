{
 "cells": [
  {
   "cell_type": "markdown",
   "id": "reflected-workshop",
   "metadata": {},
   "source": [
    "# Lab 05 - Word Embeddings\n",
    "In this lab we will look into word embeddings with word2vec and other similar methods"
   ]
  },
  {
   "cell_type": "markdown",
   "id": "phantom-jumping",
   "metadata": {},
   "source": [
    "### Build your own\n",
    "Let's start by first building out own word2vec model, instead of downloading a ready trained one. For that we are going to use the 20 news groups from sklearn, since is not too large for a lab exercise."
   ]
  },
  {
   "cell_type": "code",
   "execution_count": 1,
   "id": "outer-painting",
   "metadata": {},
   "outputs": [
    {
     "data": {
      "text/plain": [
       "[\"Well i'm not sure about the story nad it did seem biased. What\\nI disagree with is your statement that the U.S. Media is out to\\nruin Israels reputation. That is rediculous. The U.S. media is\\nthe most pro-israeli media in the world. Having lived in Europe\\nI realize that incidences such as the one described in the\\nletter have occured. The U.S. media as a whole seem to try to\\nignore them. The U.S. is subsidizing Israels existance and the\\nEuropeans are not (at least not to the same degree). So I think\\nthat might be a reason they report more clearly on the\\natrocities.\\n\\tWhat is a shame is that in Austria, daily reports of\\nthe inhuman acts commited by Israeli soldiers and the blessing\\nreceived from the Government makes some of the Holocaust guilt\\ngo away. After all, look how the Jews are treating other races\\nwhen they got power. It is unfortunate.\\n\",\n",
       " \"\\n\\n\\n\\n\\n\\n\\nYeah, do you expect people to read the FAQ, etc. and actually accept hard\\natheism?  No, you need a little leap of faith, Jimmy.  Your logic runs out\\nof steam!\\n\\n\\n\\n\\n\\n\\n\\nJim,\\n\\nSorry I can't pity you, Jim.  And I'm sorry that you have these feelings of\\ndenial about the faith you need to get by.  Oh well, just pretend that it will\\nall end happily ever after anyway.  Maybe if you start a new newsgroup,\\nalt.atheist.hard, you won't be bummin' so much?\\n\\n\\n\\n\\n\\n\\nBye-Bye, Big Jim.  Don't forget your Flintstone's Chewables!  :) \\n--\\nBake Timmons, III\"]"
      ]
     },
     "execution_count": 1,
     "metadata": {},
     "output_type": "execute_result"
    }
   ],
   "source": [
    "from sklearn.datasets import fetch_20newsgroups\n",
    "\n",
    "dataset = fetch_20newsgroups(shuffle=True, random_state=1, remove=('headers', 'footers', 'quotes'))\n",
    "documents = dataset.data\n",
    "\n",
    "# lets check the first two documents\n",
    "documents[:2]"
   ]
  },
  {
   "cell_type": "markdown",
   "id": "voluntary-basement",
   "metadata": {},
   "source": [
    "The first thing to do is to format the documents into a list of sentences that contains a list of tokens. We are not going to do any further cleaning and pre-processing for now (to keep things simple for the labs), but that would be advisable."
   ]
  },
  {
   "cell_type": "code",
   "execution_count": 2,
   "id": "sound-scale",
   "metadata": {},
   "outputs": [
    {
     "data": {
      "text/plain": [
       "[['Well',\n",
       "  'i',\n",
       "  \"'m\",\n",
       "  'not',\n",
       "  'sure',\n",
       "  'about',\n",
       "  'the',\n",
       "  'story',\n",
       "  'nad',\n",
       "  'it',\n",
       "  'did',\n",
       "  'seem',\n",
       "  'biased',\n",
       "  '.'],\n",
       " ['What',\n",
       "  'I',\n",
       "  'disagree',\n",
       "  'with',\n",
       "  'is',\n",
       "  'your',\n",
       "  'statement',\n",
       "  'that',\n",
       "  'the',\n",
       "  'U.S.',\n",
       "  'Media',\n",
       "  'is',\n",
       "  'out',\n",
       "  'to',\n",
       "  'ruin',\n",
       "  'Israels',\n",
       "  'reputation',\n",
       "  '.'],\n",
       " ['That', 'is', 'rediculous', '.']]"
      ]
     },
     "execution_count": 2,
     "metadata": {},
     "output_type": "execute_result"
    }
   ],
   "source": [
    "from nltk.tokenize import sent_tokenize, word_tokenize\n",
    "\n",
    "# This will take a minute or so\n",
    "token_list = []\n",
    "for d in documents:\n",
    "    s = sent_tokenize(d) \n",
    "    token_list = token_list +[word_tokenize(t) for t in s]\n",
    "\n",
    "# check the first three sentences\n",
    "token_list[:3]"
   ]
  },
  {
   "cell_type": "markdown",
   "id": "dominican-spain",
   "metadata": {},
   "source": [
    "Now is time to import the word2vec algorithm and set the key parameters"
   ]
  },
  {
   "cell_type": "code",
   "execution_count": 3,
   "id": "defensive-buffer",
   "metadata": {},
   "outputs": [],
   "source": [
    "from gensim.models.word2vec import Word2Vec\n",
    "\n",
    "# Number of vector elements (dimensions) to represent the word vector\n",
    "num_features = 300\n",
    "# Min number of word count to be considered in the Word2vec model. If your corpus is small, reduce the min count. If you’re training with a large corpus, increase the min count.\n",
    "min_word_count = 1\n",
    "# Number of CPU cores used for the training. If you want to set the number of cores dynamically, check out import multiprocessing: \n",
    "#num_workers = multiprocessing.cpu_count()\n",
    "num_workers = 2\n",
    "# Context window size\n",
    "window_size = 3\n",
    "# Subsampling rate for frequent terms\n",
    "subsampling = 1e-3"
   ]
  },
  {
   "cell_type": "markdown",
   "id": "alone-calcium",
   "metadata": {},
   "source": [
    "Let's train the model!"
   ]
  },
  {
   "cell_type": "code",
   "execution_count": 4,
   "id": "invisible-royalty",
   "metadata": {},
   "outputs": [
    {
     "name": "stdout",
     "output_type": "stream",
     "text": [
      "CPU times: user 1min 14s, sys: 2.21 s, total: 1min 17s\n",
      "Wall time: 57.2 s\n"
     ]
    }
   ],
   "source": [
    "%%time\n",
    "model = Word2Vec(token_list, workers=num_workers, size=num_features, min_count=min_word_count, window=window_size, sample=subsampling)"
   ]
  },
  {
   "cell_type": "markdown",
   "id": "collective-technical",
   "metadata": {},
   "source": [
    "Once you’ve trained your word model, you can reduce the memory footprint by about half if you freeze your model and discard the unnecessary information. The following command will discard the unneeded output weights of your neural network:"
   ]
  },
  {
   "cell_type": "code",
   "execution_count": 5,
   "id": "living-pocket",
   "metadata": {},
   "outputs": [],
   "source": [
    "model.init_sims(replace=True)"
   ]
  },
  {
   "cell_type": "markdown",
   "id": "acoustic-freeware",
   "metadata": {},
   "source": [
    "The model cannot be trained further once the weights of the output layer have been discarded.\n",
    "\n",
    "Save the trained model with the following command and preserve it for later use:"
   ]
  },
  {
   "cell_type": "code",
   "execution_count": 6,
   "id": "opposed-london",
   "metadata": {},
   "outputs": [],
   "source": [
    "model_name = \"my_own_domain_specific_word2vec_model\"\n",
    "model.save(model_name)"
   ]
  },
  {
   "cell_type": "markdown",
   "id": "directed-necklace",
   "metadata": {},
   "source": [
    "Now lets say we want to load the model that we had previously saved."
   ]
  },
  {
   "cell_type": "code",
   "execution_count": 7,
   "id": "measured-retro",
   "metadata": {},
   "outputs": [],
   "source": [
    "from gensim.models.word2vec import Word2Vec\n",
    "model_name = \"my_own_domain_specific_word2vec_model\"\n",
    "model = Word2Vec.load(model_name)"
   ]
  },
  {
   "cell_type": "markdown",
   "id": "republican-pepper",
   "metadata": {},
   "source": [
    "Let's check the most similar words to \"justice\""
   ]
  },
  {
   "cell_type": "code",
   "execution_count": 29,
   "id": "aquatic-milton",
   "metadata": {},
   "outputs": [
    {
     "name": "stdout",
     "output_type": "stream",
     "text": [
      "[('democracy', 0.9150368571281433), ('race', 0.9070178866386414), ('spiritual', 0.9067258238792419), ('secrecy', 0.8993679285049438), ('sexual', 0.8966501951217651), ('mass', 0.8948136568069458), ('caps-lock', 0.8937345147132874), ('increasing', 0.8935261964797974), ('integration', 0.8922955989837646), ('divine', 0.8904436826705933)]\n"
     ]
    }
   ],
   "source": [
    "print(model.wv.most_similar('justice'))"
   ]
  },
  {
   "cell_type": "markdown",
   "id": "expressed-parade",
   "metadata": {},
   "source": [
    "### Challenge - 1\n",
    "Try a few more words and observe if what is retrieved makes sense"
   ]
  },
  {
   "cell_type": "markdown",
   "id": "israeli-boundary",
   "metadata": {},
   "source": [
    "### Using the gensim API\n",
    "Having build our own model is great, but lets now load a model that was trained with MANY documents."
   ]
  },
  {
   "cell_type": "code",
   "execution_count": 9,
   "id": "chief-bunch",
   "metadata": {},
   "outputs": [],
   "source": [
    "import numpy as np\n",
    "from sklearn.manifold import TSNE\n",
    "import matplotlib.pyplot as plt"
   ]
  },
  {
   "cell_type": "markdown",
   "id": "soviet-beauty",
   "metadata": {},
   "source": [
    "We will be using the downloader for the embedding models"
   ]
  },
  {
   "cell_type": "code",
   "execution_count": 10,
   "id": "changing-cable",
   "metadata": {},
   "outputs": [],
   "source": [
    "import gensim.downloader as api\n",
    "\n",
    "# this command can be used to check what models are available\n",
    "#api.info()"
   ]
  },
  {
   "cell_type": "markdown",
   "id": "conservative-aurora",
   "metadata": {},
   "source": [
    "Let's load the word2vec model from google news containing 300 features"
   ]
  },
  {
   "cell_type": "code",
   "execution_count": 11,
   "id": "dominican-operator",
   "metadata": {},
   "outputs": [],
   "source": [
    "# This will also take a minute or so\n",
    "word2vec_model = api.load('word2vec-google-news-300')"
   ]
  },
  {
   "cell_type": "markdown",
   "id": "careful-wiring",
   "metadata": {},
   "source": [
    "Now check the embedding vector for \"beautiful\"... you will see a 300 dimensional vector"
   ]
  },
  {
   "cell_type": "code",
   "execution_count": 12,
   "id": "frequent-heating",
   "metadata": {},
   "outputs": [
    {
     "data": {
      "text/plain": [
       "array([-0.01831055,  0.05566406, -0.01153564,  0.07275391,  0.15136719,\n",
       "       -0.06176758,  0.20605469, -0.15332031, -0.05908203,  0.22851562,\n",
       "       -0.06445312, -0.22851562, -0.09472656, -0.03344727,  0.24707031,\n",
       "        0.05541992, -0.00921631,  0.1328125 , -0.15429688,  0.08105469,\n",
       "       -0.07373047,  0.24316406,  0.12353516, -0.09277344,  0.08203125,\n",
       "        0.06494141,  0.15722656,  0.11279297, -0.0612793 , -0.296875  ,\n",
       "       -0.13378906,  0.234375  ,  0.09765625,  0.17773438,  0.06689453,\n",
       "       -0.27539062,  0.06445312, -0.13867188, -0.08886719,  0.171875  ,\n",
       "        0.07861328, -0.10058594,  0.23925781,  0.03808594,  0.18652344,\n",
       "       -0.11279297,  0.22558594,  0.10986328, -0.11865234,  0.02026367,\n",
       "        0.11376953,  0.09570312,  0.29492188,  0.08251953, -0.05444336,\n",
       "       -0.0090332 , -0.0625    , -0.17578125, -0.08154297,  0.01062012,\n",
       "       -0.04736328, -0.08544922, -0.19042969, -0.30273438,  0.07617188,\n",
       "        0.125     , -0.05932617,  0.03833008, -0.03564453,  0.2421875 ,\n",
       "        0.36132812,  0.04760742,  0.00631714, -0.03088379, -0.13964844,\n",
       "        0.22558594, -0.06298828, -0.02636719,  0.1171875 ,  0.33398438,\n",
       "       -0.07666016, -0.06689453,  0.04150391, -0.15136719, -0.22460938,\n",
       "        0.03320312, -0.15332031,  0.07128906,  0.16992188,  0.11572266,\n",
       "       -0.13085938,  0.12451172, -0.20410156,  0.04736328, -0.296875  ,\n",
       "       -0.17480469,  0.00872803, -0.04638672,  0.10791016, -0.203125  ,\n",
       "       -0.27539062,  0.2734375 ,  0.02563477, -0.11035156,  0.0625    ,\n",
       "        0.1953125 ,  0.16015625, -0.13769531, -0.09863281, -0.1953125 ,\n",
       "       -0.22851562,  0.25390625,  0.00915527, -0.03857422,  0.3984375 ,\n",
       "       -0.1796875 ,  0.03833008, -0.24804688,  0.03515625,  0.03881836,\n",
       "        0.03442383, -0.04101562,  0.20214844, -0.03015137, -0.09619141,\n",
       "        0.11669922, -0.06738281,  0.0625    ,  0.10742188,  0.25585938,\n",
       "       -0.21777344,  0.05639648, -0.0065918 ,  0.16113281,  0.11865234,\n",
       "       -0.03088379, -0.11572266,  0.02685547,  0.03100586,  0.09863281,\n",
       "        0.05883789,  0.00634766,  0.11914062,  0.07324219, -0.01586914,\n",
       "        0.18457031,  0.05322266,  0.19824219, -0.22363281, -0.25195312,\n",
       "        0.15039062,  0.22753906,  0.05737305,  0.16992188, -0.22558594,\n",
       "        0.06494141,  0.11914062, -0.06640625, -0.10449219, -0.07226562,\n",
       "       -0.16992188,  0.0625    ,  0.14648438,  0.27148438, -0.02172852,\n",
       "       -0.12695312,  0.18457031, -0.27539062, -0.36523438, -0.03491211,\n",
       "       -0.18554688,  0.23828125, -0.13867188,  0.00296021,  0.04272461,\n",
       "        0.13867188,  0.12207031,  0.05957031, -0.22167969, -0.18945312,\n",
       "       -0.23242188, -0.28710938, -0.00866699, -0.16113281, -0.24316406,\n",
       "        0.05712891, -0.06982422,  0.00053406, -0.10302734, -0.13378906,\n",
       "       -0.16113281,  0.11621094,  0.31640625, -0.02697754, -0.01574707,\n",
       "        0.11425781, -0.04174805,  0.05908203,  0.02661133, -0.08642578,\n",
       "        0.140625  ,  0.09228516, -0.25195312, -0.31445312, -0.05688477,\n",
       "        0.01031494,  0.0234375 , -0.02331543, -0.08056641,  0.01269531,\n",
       "       -0.34179688,  0.17285156, -0.16015625,  0.07763672, -0.03088379,\n",
       "        0.11962891,  0.11767578,  0.20117188, -0.01940918,  0.02172852,\n",
       "        0.23046875,  0.28125   , -0.17675781,  0.02978516,  0.08740234,\n",
       "       -0.06176758,  0.00939941, -0.09277344, -0.203125  ,  0.13085938,\n",
       "       -0.13671875, -0.00500488, -0.04296875,  0.12988281,  0.3515625 ,\n",
       "        0.0402832 , -0.12988281, -0.03173828,  0.28515625,  0.18261719,\n",
       "        0.13867188, -0.16503906, -0.26171875, -0.04345703,  0.0100708 ,\n",
       "        0.08740234,  0.00421143, -0.1328125 , -0.17578125, -0.04321289,\n",
       "       -0.015625  ,  0.16894531,  0.25      ,  0.37109375,  0.19921875,\n",
       "       -0.36132812, -0.10302734, -0.20800781, -0.20117188, -0.01519775,\n",
       "       -0.12207031, -0.12011719, -0.07421875, -0.04345703,  0.14160156,\n",
       "        0.15527344, -0.03027344, -0.09326172, -0.04589844,  0.16796875,\n",
       "       -0.03027344,  0.09179688, -0.10058594,  0.20703125,  0.11376953,\n",
       "       -0.12402344,  0.04003906,  0.06933594, -0.34570312,  0.03881836,\n",
       "        0.16210938,  0.05761719, -0.12792969, -0.05810547,  0.03857422,\n",
       "       -0.11328125, -0.1953125 , -0.28125   , -0.13183594,  0.15722656,\n",
       "       -0.09765625,  0.09619141, -0.09960938, -0.00285339, -0.03637695,\n",
       "        0.15429688,  0.06152344, -0.34570312,  0.11083984,  0.03344727],\n",
       "      dtype=float32)"
      ]
     },
     "execution_count": 12,
     "metadata": {},
     "output_type": "execute_result"
    }
   ],
   "source": [
    "word2vec_model[\"beautiful\"]"
   ]
  },
  {
   "cell_type": "markdown",
   "id": "fleet-kruger",
   "metadata": {},
   "source": [
    "Let's check some similar words to the word \"girl\""
   ]
  },
  {
   "cell_type": "code",
   "execution_count": 31,
   "id": "understanding-sandwich",
   "metadata": {},
   "outputs": [
    {
     "data": {
      "text/plain": [
       "[('boy', 0.8543272018432617),\n",
       " ('teenage_girl', 0.7927976250648499),\n",
       " ('woman', 0.7494640946388245),\n",
       " ('teenager', 0.717249870300293),\n",
       " ('schoolgirl', 0.7075953483581543),\n",
       " ('teenaged_girl', 0.6650916337966919),\n",
       " ('daughter', 0.6489864587783813),\n",
       " ('mother', 0.6478164196014404),\n",
       " ('toddler', 0.6473966836929321),\n",
       " ('girls', 0.6154742240905762)]"
      ]
     },
     "execution_count": 31,
     "metadata": {},
     "output_type": "execute_result"
    }
   ],
   "source": [
    "word2vec_model.most_similar(\"girl\")"
   ]
  },
  {
   "cell_type": "markdown",
   "id": "familiar-reception",
   "metadata": {},
   "source": [
    "How about some maths with vectors! Try the following:\n",
    "\n",
    "queen - girl + boy = king"
   ]
  },
  {
   "cell_type": "code",
   "execution_count": 14,
   "id": "italic-reservation",
   "metadata": {},
   "outputs": [
    {
     "data": {
      "text/plain": [
       "[('king', 0.7298422455787659)]"
      ]
     },
     "execution_count": 14,
     "metadata": {},
     "output_type": "execute_result"
    }
   ],
   "source": [
    "word2vec_model.most_similar(positive=['boy', 'queen'], negative=['girl'], topn=1)"
   ]
  },
  {
   "cell_type": "markdown",
   "id": "friendly-nature",
   "metadata": {},
   "source": [
    "Time to do some visualisations and see how similar words end up close together and far from other words that are not as similar"
   ]
  },
  {
   "cell_type": "code",
   "execution_count": 15,
   "id": "later-elevation",
   "metadata": {},
   "outputs": [
    {
     "data": {
      "image/png": "[encoded data removed]",
      "text/plain": [
       "<Figure size 576x576 with 1 Axes>"
      ]
     },
     "metadata": {
      "needs_background": "light"
     },
     "output_type": "display_data"
    }
   ],
   "source": [
    "vocab = [\"boy\", \"girl\", \"man\", \"woman\", \"king\", \"queen\", \"banana\", \"apple\", \"mango\", \"fruit\", \"coconut\", \"orange\"]\n",
    "\n",
    "def tsne_plot(model):\n",
    "    labels = []\n",
    "    wordvecs = []\n",
    "\n",
    "    for word in vocab:\n",
    "        wordvecs.append(model[word])\n",
    "        labels.append(word)\n",
    "    \n",
    "    tsne_model = TSNE(perplexity=3, n_components=2, init='pca', random_state=42)\n",
    "    coordinates = tsne_model.fit_transform(wordvecs)\n",
    "\n",
    "    x = []\n",
    "    y = []\n",
    "    for value in coordinates:\n",
    "        x.append(value[0])\n",
    "        y.append(value[1])\n",
    "        \n",
    "    plt.figure(figsize=(8,8)) \n",
    "    for i in range(len(x)):\n",
    "        plt.scatter(x[i],y[i])\n",
    "        plt.annotate(labels[i],\n",
    "                     xy=(x[i], y[i]),\n",
    "                     xytext=(2, 2),\n",
    "                     textcoords='offset points',\n",
    "                     ha='right',\n",
    "                     va='bottom')\n",
    "    plt.show()\n",
    "\n",
    "tsne_plot(word2vec_model)"
   ]
  },
  {
   "cell_type": "markdown",
   "id": "streaming-school",
   "metadata": {},
   "source": [
    "### Challenge - 2\n",
    "Try a few more examples to visualise and see if similar words land close together"
   ]
  },
  {
   "cell_type": "markdown",
   "id": "sound-tribute",
   "metadata": {},
   "source": [
    "## GloVe\n",
    "Let's try another model (GloVe) and see if that is any different to word2vec"
   ]
  },
  {
   "cell_type": "code",
   "execution_count": 16,
   "id": "honest-military",
   "metadata": {},
   "outputs": [],
   "source": [
    "import numpy as np\n",
    "from sklearn.manifold import TSNE\n",
    "import matplotlib.pyplot as plt"
   ]
  },
  {
   "cell_type": "code",
   "execution_count": 17,
   "id": "theoretical-accordance",
   "metadata": {},
   "outputs": [],
   "source": [
    "import gensim.downloader as api\n",
    "glove_model = api.load('glove-wiki-gigaword-300')"
   ]
  },
  {
   "cell_type": "code",
   "execution_count": 18,
   "id": "thrown-promotion",
   "metadata": {},
   "outputs": [
    {
     "data": {
      "text/plain": [
       "array([-2.3852e-01, -3.3704e-01, -2.6531e-01, -3.4693e-01, -1.2875e-01,\n",
       "        1.0698e-01, -2.4669e-02,  2.6829e-02, -1.0024e-01, -9.1494e-01,\n",
       "        4.8989e-01, -1.0362e-01, -2.4535e-01,  5.7003e-01, -3.5189e-02,\n",
       "       -3.7690e-01, -6.9177e-02, -2.5942e-01,  2.2511e-01,  5.1855e-01,\n",
       "       -3.9326e-01,  1.2665e+00, -4.4396e-01,  7.6827e-01, -1.0909e-02,\n",
       "       -2.4237e-01, -1.0275e-01, -4.9712e-01, -8.0183e-02,  4.0611e-01,\n",
       "        2.1275e-01,  6.5182e-01, -1.1487e+00,  4.6080e-03, -6.8265e-01,\n",
       "        9.6941e-01, -7.6194e-02, -4.1590e-01, -2.7069e-01, -5.3364e-02,\n",
       "       -7.9631e-02, -2.6670e-01, -2.1544e-02,  2.2392e-01,  5.5741e-02,\n",
       "        8.4611e-02,  8.6011e-01,  4.8927e-01,  4.7428e-01, -2.4446e-01,\n",
       "       -2.1553e-01,  1.4370e-01,  5.0683e-01, -5.8435e-01, -5.6243e-01,\n",
       "       -6.3757e-02, -2.2861e-01, -6.9374e-02,  5.6618e-01, -8.7813e-02,\n",
       "       -2.1272e-01, -1.6319e-01,  3.3545e-01,  1.3707e-01, -1.1920e-03,\n",
       "        9.7461e-02,  3.2382e-01, -2.2693e-01, -1.7767e-01,  4.0166e-02,\n",
       "       -5.3029e-01, -4.5809e-01, -2.3483e-01,  3.1453e-01,  1.7206e-01,\n",
       "       -6.9996e-02,  2.1818e-01, -1.3370e-01,  7.0031e-02, -5.1293e-01,\n",
       "       -5.9242e-01,  2.6683e-01,  3.4211e-02, -2.3073e-01,  9.2629e-02,\n",
       "        9.7956e-01, -1.7105e-01,  3.4766e-01,  1.5655e-01,  1.6473e-01,\n",
       "       -4.8657e-02, -3.3195e-01,  4.0701e-02, -3.6882e-01,  3.8325e-02,\n",
       "        1.4471e-01,  4.5228e-01, -5.3237e-01,  1.6001e-01,  9.1856e-02,\n",
       "       -3.3670e-02, -2.8456e-01,  2.7661e-01,  2.5678e-01, -5.0600e-01,\n",
       "        9.0557e-02,  2.3590e-01, -2.3907e-01, -1.0190e-01, -4.3150e-01,\n",
       "       -1.9739e-01,  3.4452e-01,  3.3246e-01, -8.2128e-02,  2.3898e-01,\n",
       "        2.8935e-02,  3.4182e-01,  6.4785e-01,  4.4846e-02,  2.3185e-01,\n",
       "       -9.0600e-02,  3.2501e-01, -1.1690e-01,  6.3490e-01, -3.9302e-02,\n",
       "       -1.9762e-01, -1.1636e-01,  6.4526e-01, -6.8176e-01, -2.7499e-01,\n",
       "        2.3495e-01,  3.8022e-01, -7.2129e-02,  3.2216e-01, -6.3217e-01,\n",
       "       -1.3036e-01, -7.2367e-02, -1.8482e-01, -7.8929e-02,  1.2480e-01,\n",
       "        9.6149e-02,  4.8628e-02, -5.9320e-02, -1.5919e-01, -2.1533e-01,\n",
       "       -3.8724e-01,  3.5391e-01,  3.4231e-01, -3.9314e-01, -1.1976e-01,\n",
       "       -3.7050e-01, -1.2089e-01, -5.8203e-03, -3.3442e-01,  6.4367e-01,\n",
       "       -2.2489e-01, -4.5688e-01,  1.8812e-02,  1.7772e-01, -1.5363e-01,\n",
       "        4.2730e-02, -3.4811e-01,  6.1017e-01,  3.0632e-01, -4.0521e-01,\n",
       "        1.1642e-02,  8.0483e-05,  1.9665e-01,  2.7749e-01, -2.7826e-01,\n",
       "       -2.8165e-01, -1.7904e-01, -3.9776e-01,  2.9140e-01,  8.6537e-02,\n",
       "       -5.2711e-02, -2.4818e-01,  1.3174e-01, -5.0422e-01, -1.7553e-01,\n",
       "       -5.0302e-02, -6.6879e-01,  4.8007e-01,  2.3588e-02,  3.8455e-01,\n",
       "       -2.0443e-01,  3.2373e-01, -2.6863e-01, -1.1948e-03,  4.1770e-01,\n",
       "       -2.8839e-01, -5.8236e-02, -1.5103e-01, -5.2364e-02, -4.4363e-01,\n",
       "        1.8137e-01, -4.0447e-01, -4.2684e-01, -3.0427e-01,  3.6178e-01,\n",
       "        1.5595e+00, -3.3639e-01, -9.7822e-02, -1.7268e-02,  6.5117e-02,\n",
       "       -3.8777e-01,  5.7876e-02,  4.3497e-01, -3.1166e-01, -2.7618e-01,\n",
       "       -1.7773e-01,  3.3641e-01, -1.0508e-01, -3.1227e-01,  3.9182e-01,\n",
       "       -3.7915e-02,  2.5229e-01, -6.6904e-01,  1.0371e-01,  1.7643e-01,\n",
       "        2.5485e-01, -3.6815e-02,  1.7848e-01,  8.2182e-02, -6.1077e-01,\n",
       "        2.0832e-01,  4.1189e-01, -2.0953e-01, -5.2351e-01, -4.5922e-02,\n",
       "        1.0356e-01, -1.1626e-01, -2.3241e-01, -4.1366e-01, -5.6315e-02,\n",
       "        4.5747e-01, -2.9707e-01, -1.6137e-01, -3.3410e-01, -3.1331e-01,\n",
       "        3.3484e-01,  1.7417e-01, -4.1686e-01,  4.8983e-01, -1.7848e-01,\n",
       "        4.7937e-01, -3.0127e-01,  4.2611e-01,  1.9762e-01,  3.4076e-01,\n",
       "        2.6479e-01, -5.3770e-01, -1.0298e-01, -3.8824e-02,  7.3822e-01,\n",
       "        3.3278e-02,  1.1207e-01,  7.8605e-02,  1.3025e-01, -3.6788e-01,\n",
       "       -3.6885e-01, -4.0836e-01, -1.6628e-01, -2.1534e-01, -7.3451e-02,\n",
       "       -3.4754e-01, -8.6115e-03, -2.1517e-01,  4.9213e-01,  2.8894e-01,\n",
       "        1.9182e-01, -5.3703e-01,  1.5176e-02, -1.9287e-02,  1.2511e-01,\n",
       "        2.9509e-01, -1.0003e+00,  1.0112e-01, -1.3583e-01, -3.6766e-01,\n",
       "       -3.1532e-01,  3.9986e-01, -7.4484e-02, -1.6293e-01, -6.4623e-01,\n",
       "        1.8405e-01, -2.3892e-01,  3.5487e-01, -2.8264e-01, -3.4756e-01,\n",
       "        1.9120e-01,  7.6232e-02, -4.6812e-01,  3.9841e-01,  1.2330e-01,\n",
       "       -2.5784e-01,  4.5218e-01,  3.2891e-01,  3.7239e-02,  2.3779e-01],\n",
       "      dtype=float32)"
      ]
     },
     "execution_count": 18,
     "metadata": {},
     "output_type": "execute_result"
    }
   ],
   "source": [
    "glove_model[\"beautiful\"]"
   ]
  },
  {
   "cell_type": "markdown",
   "id": "checked-adult",
   "metadata": {},
   "source": [
    "It will be interesting to see if this will fins similar words to \"girl\" like word2vec did"
   ]
  },
  {
   "cell_type": "code",
   "execution_count": 19,
   "id": "identified-tradition",
   "metadata": {},
   "outputs": [
    {
     "data": {
      "text/plain": [
       "[('boy', 0.8272891044616699),\n",
       " ('woman', 0.729641854763031),\n",
       " ('girls', 0.7227291464805603),\n",
       " ('teenager', 0.650977373123169),\n",
       " ('teenage', 0.6492719650268555),\n",
       " ('mother', 0.6417974829673767),\n",
       " ('boys', 0.6283578872680664),\n",
       " ('child', 0.6229295134544373),\n",
       " ('teen', 0.612524151802063),\n",
       " ('daughter', 0.6050207614898682)]"
      ]
     },
     "execution_count": 19,
     "metadata": {},
     "output_type": "execute_result"
    }
   ],
   "source": [
    "glove_model.most_similar(\"girl\")"
   ]
  },
  {
   "cell_type": "markdown",
   "id": "personal-worship",
   "metadata": {},
   "source": [
    "Let's also see if it can solve the same analogy too"
   ]
  },
  {
   "cell_type": "code",
   "execution_count": 20,
   "id": "weekly-yellow",
   "metadata": {},
   "outputs": [
    {
     "data": {
      "text/plain": [
       "[('king', 0.6770139336585999)]"
      ]
     },
     "execution_count": 20,
     "metadata": {},
     "output_type": "execute_result"
    }
   ],
   "source": [
    "glove_model.most_similar(positive=['boy', 'queen'], negative=['girl'], topn=1)"
   ]
  },
  {
   "cell_type": "code",
   "execution_count": 21,
   "id": "boxed-asian",
   "metadata": {},
   "outputs": [
    {
     "data": {
      "image/png": "[encoded data removed]",
      "text/plain": [
       "<Figure size 576x576 with 1 Axes>"
      ]
     },
     "metadata": {
      "needs_background": "light"
     },
     "output_type": "display_data"
    }
   ],
   "source": [
    "vocab = [\"boy\", \"girl\", \"man\", \"woman\", \"king\", \"queen\", \"banana\", \"apple\", \"mango\", \"fruit\", \"coconut\", \"orange\"]\n",
    "\n",
    "def tsne_plot(model):\n",
    "    labels = []\n",
    "    wordvecs = []\n",
    "\n",
    "    for word in vocab:\n",
    "        wordvecs.append(model[word])\n",
    "        labels.append(word)\n",
    "    \n",
    "    tsne_model = TSNE(perplexity=3, n_components=2, init='pca', random_state=42)\n",
    "    coordinates = tsne_model.fit_transform(wordvecs)\n",
    "\n",
    "    x = []\n",
    "    y = []\n",
    "    for value in coordinates:\n",
    "        x.append(value[0])\n",
    "        y.append(value[1])\n",
    "        \n",
    "    plt.figure(figsize=(8,8)) \n",
    "    for i in range(len(x)):\n",
    "        plt.scatter(x[i],y[i])\n",
    "        plt.annotate(labels[i],\n",
    "                     xy=(x[i], y[i]),\n",
    "                     xytext=(2, 2),\n",
    "                     textcoords='offset points',\n",
    "                     ha='right',\n",
    "                     va='bottom')\n",
    "    plt.show()\n",
    "\n",
    "tsne_plot(glove_model)"
   ]
  },
  {
   "cell_type": "markdown",
   "id": "bronze-faith",
   "metadata": {},
   "source": [
    "Let's continue with GloVe and check if plural words play any role in how close is to the original singular words"
   ]
  },
  {
   "cell_type": "code",
   "execution_count": 22,
   "id": "secret-gregory",
   "metadata": {},
   "outputs": [
    {
     "name": "stdout",
     "output_type": "stream",
     "text": [
      "0.1759456992149353\n",
      "0.2772707939147949\n",
      "0.17271089553833008\n"
     ]
    }
   ],
   "source": [
    "print(glove_model.distance(\"fruit\", \"fruits\"))\n",
    "print(glove_model.distance(\"girl\", \"girls\"))\n",
    "print(glove_model.distance(\"girl\", \"boy\"))"
   ]
  },
  {
   "cell_type": "markdown",
   "id": "burning-oliver",
   "metadata": {},
   "source": [
    "## Challenge - 3\n",
    "Calculate the distance for \"king\" and \"queen\", then for \"woman and \"man\". Is it similar? Check the plot to confirm.\n",
    "\n",
    "Calculate the distance for \"king\" and \"apple\", then for \"queen\" and \"apple\". Is it similar again? Check the plot to confirm."
   ]
  },
  {
   "cell_type": "markdown",
   "id": "thousand-stick",
   "metadata": {},
   "source": [
    "Now let's try and see if the model can find the capitals of different countries"
   ]
  },
  {
   "cell_type": "code",
   "execution_count": 23,
   "id": "standing-senior",
   "metadata": {},
   "outputs": [
    {
     "name": "stdout",
     "output_type": "stream",
     "text": [
      "           0         1\n",
      "0  australia  canberra\n",
      "1     canada    ottawa\n",
      "2    germany    berlin\n",
      "3    ireland    dublin\n",
      "4      italy      rome\n"
     ]
    }
   ],
   "source": [
    "import pandas as pd\n",
    "# pretty print function\n",
    "def pp(obj):\n",
    "    print(pd.DataFrame(obj))\n",
    "    \n",
    "def analogy(worda, wordb, wordc):\n",
    "    result = glove_model.most_similar(negative=[worda], positive=[wordb, wordc], topn=1)\n",
    "    return result[0][0]\n",
    "\n",
    "countries = ['australia', 'canada', 'germany', 'ireland', 'italy']\n",
    "capitals = [analogy('usa', 'washington', country) for country in countries]\n",
    "pp(zip(countries,capitals))"
   ]
  },
  {
   "cell_type": "markdown",
   "id": "damaged-cache",
   "metadata": {},
   "source": [
    "## Challenge - 4\n",
    "Looks good... but what if you change \"usa\" to \"us\"? Or if you used a different example to start with like \"greece\" and \"athens\"?"
   ]
  },
  {
   "cell_type": "markdown",
   "id": "higher-intelligence",
   "metadata": {},
   "source": [
    "Now let's plot the results on a graph"
   ]
  },
  {
   "cell_type": "code",
   "execution_count": 24,
   "id": "gross-arthur",
   "metadata": {},
   "outputs": [
    {
     "data": {
      "image/png": "[encoded data removed]",
      "text/plain": [
       "<Figure size 700x500 with 1 Axes>"
      ]
     },
     "metadata": {
      "needs_background": "light"
     },
     "output_type": "display_data"
    }
   ],
   "source": [
    "from sklearn.decomposition import PCA\n",
    "import matplotlib.pyplot as plt\n",
    "import numpy as np\n",
    "\n",
    "def plot_data(orig_data, labels):\n",
    "    pca = PCA(n_components=2)\n",
    "    data = pca.fit_transform(orig_data)\n",
    "    plt.figure(figsize=(7, 5), dpi=100)\n",
    "    plt.plot(data[:,0], data[:,1], '.')\n",
    "    for i in range(len(data)):\n",
    "        plt.annotate(labels[i], xy = data[i])\n",
    "    for i in range(len(data)//2):\n",
    "        plt.annotate(\"\",\n",
    "                xy=data[i],\n",
    "                xytext=data[i+len(data)//2],\n",
    "                arrowprops=dict(arrowstyle=\"->\",\n",
    "                                connectionstyle=\"arc3\")\n",
    "        )\n",
    "       \n",
    "labels = countries + capitals\n",
    "data = [glove_model[w] for w in labels]\n",
    "plot_data(data, labels)"
   ]
  },
  {
   "cell_type": "markdown",
   "id": "israeli-killer",
   "metadata": {},
   "source": [
    "## doc2vec\n",
    "Now let's look into generating feature vectors for documents instead of just words. For that we are going to use word2vec"
   ]
  },
  {
   "cell_type": "code",
   "execution_count": 25,
   "id": "psychological-tomato",
   "metadata": {},
   "outputs": [],
   "source": [
    "import multiprocessing\n",
    "num_cores = multiprocessing.cpu_count()\n",
    "\n",
    "from gensim.models.doc2vec import TaggedDocument,Doc2Vec\n",
    "from gensim.utils import simple_preprocess"
   ]
  },
  {
   "cell_type": "markdown",
   "id": "collectible-external",
   "metadata": {},
   "source": [
    "First let's load some data"
   ]
  },
  {
   "cell_type": "code",
   "execution_count": 26,
   "id": "severe-seating",
   "metadata": {},
   "outputs": [],
   "source": [
    "corpus = ['This is the first document','another document']\n",
    "\n",
    "training_corpus = []\n",
    "for i, text in enumerate(corpus):\n",
    "    tagged_doc = TaggedDocument(simple_preprocess(text), [i])\n",
    "    training_corpus.append(tagged_doc)\n",
    "    \n",
    "# If you’re running low on RAM, and you know the number of documents ahead of time (your corpus object isn’t an iterator or generator),\n",
    "# you might want to use a preallocated numpy array instead of Python list for your training_corpus:\n",
    "#training_corpus = np.empty(len(corpus), dtype=object);\n",
    "#… \n",
    "#training_corpus[i] = …"
   ]
  },
  {
   "cell_type": "markdown",
   "id": "painted-huntington",
   "metadata": {},
   "source": [
    "Now we will build the model and train it"
   ]
  },
  {
   "cell_type": "code",
   "execution_count": 27,
   "id": "fantastic-starter",
   "metadata": {},
   "outputs": [],
   "source": [
    "doc2vec_model = Doc2Vec(vector_size=100, min_count=2, workers=num_cores, epochs=10)\n",
    "doc2vec_model.build_vocab(training_corpus)\n",
    "doc2vec_model.train(training_corpus, total_examples=doc2vec_model.corpus_count, epochs=doc2vec_model.epochs)"
   ]
  },
  {
   "cell_type": "markdown",
   "id": "seasonal-donna",
   "metadata": {},
   "source": [
    "Time to generate the feature vector of a new document!"
   ]
  },
  {
   "cell_type": "code",
   "execution_count": 28,
   "id": "miniature-request",
   "metadata": {},
   "outputs": [
    {
     "data": {
      "text/plain": [
       "array([-0.00082354,  0.00068019,  0.00426697,  0.00057079, -0.00012091,\n",
       "       -0.00409347,  0.00412364, -0.00189955,  0.00240943, -0.00254466,\n",
       "        0.00493285,  0.00118248,  0.00441235, -0.00167265,  0.00179285,\n",
       "        0.00029137,  0.00118566,  0.00041085,  0.00401899,  0.00170529,\n",
       "        0.00098692, -0.00412086, -0.00274476, -0.00473384,  0.00236862,\n",
       "        0.00449458, -0.00436898, -0.0035806 ,  0.00098934,  0.00305184,\n",
       "        0.00131144, -0.00146536, -0.00267259, -0.00126033,  0.0024511 ,\n",
       "        0.0030512 ,  0.00241505, -0.00398296, -0.00129418, -0.00050857,\n",
       "       -0.00068736, -0.00187352, -0.00464324, -0.00432513, -0.00264307,\n",
       "        0.00447086, -0.00184018, -0.00176999, -0.00078314, -0.00476751,\n",
       "        0.00172849,  0.00465515, -0.00140908, -0.0032352 , -0.00011763,\n",
       "       -0.00040906,  0.00494005, -0.00070284,  0.00054888, -0.00118986,\n",
       "        0.00056651, -0.00076696, -0.00187673,  0.00183901,  0.0010736 ,\n",
       "       -0.0042758 ,  0.00239897, -0.00461743, -0.0001079 , -0.00034125,\n",
       "        0.0013609 ,  0.00235036,  0.00202878, -0.00205261,  0.00447934,\n",
       "       -0.00191934,  0.00285657,  0.00499158,  0.00364689, -0.00141697,\n",
       "       -0.00299371,  0.00370112, -0.00335458, -0.00267281,  0.00416017,\n",
       "        0.00056408, -0.00132416,  0.00029835, -0.00112054,  0.00052221,\n",
       "       -0.00186943,  0.00013349,  0.00463511, -0.00056613,  0.00038216,\n",
       "        0.00349734, -0.00480224,  0.00446249, -0.00463016, -0.00312027],\n",
       "      dtype=float32)"
      ]
     },
     "execution_count": 28,
     "metadata": {},
     "output_type": "execute_result"
    }
   ],
   "source": [
    "doc2vec_model.infer_vector(simple_preprocess('This is a completely unseen document'), steps=10)"
   ]
  },
  {
   "cell_type": "markdown",
   "id": "fresh-mobility",
   "metadata": {},
   "source": [
    "## Challenge - 5\n",
    "Use the fetch_20newsgroups dataset from sklearn (see code above) and re-train doc2vec with that data instead.\n",
    "\n",
    "Then, check using the most similar function to see if the documents you test are indeed similar."
   ]
  },
  {
   "cell_type": "code",
   "execution_count": null,
   "id": "liberal-attack",
   "metadata": {},
   "outputs": [],
   "source": []
  }
 ],
 "metadata": {
  "kernelspec": {
   "display_name": "Python 3 (ipykernel)",
   "language": "python",
   "name": "python3"
  },
  "language_info": {
   "codemirror_mode": {
    "name": "ipython",
    "version": 3
   },
   "file_extension": ".py",
   "mimetype": "text/x-python",
   "name": "python",
   "nbconvert_exporter": "python",
   "pygments_lexer": "ipython3",
   "version": "3.9.7"
  }
 },
 "nbformat": 4,
 "nbformat_minor": 5
}
