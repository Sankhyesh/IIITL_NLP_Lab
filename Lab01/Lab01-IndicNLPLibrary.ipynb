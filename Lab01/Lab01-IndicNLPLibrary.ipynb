{
 "cells": [
  {
   "cell_type": "markdown",
   "id": "08ca6537-c36d-4f27-8ba5-f5a78c838913",
   "metadata": {},
   "source": [
    "# Introduction to Indic NLP Library"
   ]
  },
  {
   "cell_type": "markdown",
   "id": "28074f68-d1b8-4e07-85db-5fef8f571ac9",
   "metadata": {},
   "source": [
    "Now we will have some hands-on experince using Indic NLP Library. While the libraries discussed in the previous notebook works for English, Indian languages sometimes requires additional handling like tokenization, sentence-splitting. etc. "
   ]
  },
  {
   "cell_type": "markdown",
   "id": "ffa6cf68-7df8-48c8-a7ab-6c3021611ad7",
   "metadata": {},
   "source": [
    "More details can be found here https://github.com/anoopkunchukuttan/indic_nlp_library"
   ]
  },
  {
   "cell_type": "markdown",
   "id": "2380b9ab-e9d7-4853-a2d4-5e0ff1dafe7f",
   "metadata": {},
   "source": [
    "## Set-up"
   ]
  },
  {
   "cell_type": "markdown",
   "id": "45f1b0c8-e3d9-4436-a258-7b4452aaca61",
   "metadata": {},
   "source": [
    "### Download IndicNLP Library resources from here"
   ]
  },
  {
   "cell_type": "code",
   "execution_count": null,
   "id": "29af2403-5e09-40cb-b81d-e14c09b723b4",
   "metadata": {},
   "outputs": [],
   "source": [
    "!git clone https://github.com/anoopkunchukuttan/indic_nlp_resources.git"
   ]
  },
  {
   "cell_type": "markdown",
   "id": "5f86aec2-a436-4952-a5a4-a2461fdc5767",
   "metadata": {},
   "source": [
    "Set-up the path to Indic NLP Resources folder"
   ]
  },
  {
   "cell_type": "markdown",
   "id": "22765ad2-7f69-4c6c-bbb9-c6fa3bf1a554",
   "metadata": {},
   "source": [
    "## Initialize the Indic NLP library"
   ]
  },
  {
   "cell_type": "code",
   "execution_count": null,
   "id": "84f237c8-e3ff-4628-928c-dcc4310fb69c",
   "metadata": {},
   "outputs": [],
   "source": [
    "INDIC_NLP_RESOURCES=r\"indic_nlp_resources/\""
   ]
  },
  {
   "cell_type": "code",
   "execution_count": null,
   "id": "07628b36-7af7-41ff-94b2-2aa30189f1f4",
   "metadata": {},
   "outputs": [],
   "source": [
    "import sys\n",
    "from indicnlp import common\n",
    "common.set_resources_path(INDIC_NLP_RESOURCES)"
   ]
  },
  {
   "cell_type": "code",
   "execution_count": null,
   "id": "a03f07ff-10b7-4cd9-8ce8-3a7e8facec0e",
   "metadata": {},
   "outputs": [],
   "source": [
    "from indicnlp import loader\n",
    "loader.load()"
   ]
  },
  {
   "cell_type": "markdown",
   "id": "1d01cf85-9d11-44ad-844b-7d35485b9ffb",
   "metadata": {},
   "source": [
    "We will now try out some of the APIs provided by the library"
   ]
  },
  {
   "cell_type": "markdown",
   "id": "d550f1a9-26aa-4f4e-aa1d-ed81a8b204c1",
   "metadata": {},
   "source": [
    "**NOTE:** Many APIs require us to provide the language we are working with. Language information is provided as a 2-letter ISO 639-1 codes. More details and the exact 2-letter code used can be found here https://en.wikipedia.org/wiki/List_of_ISO_639-1_codes\n",
    "\n",
    "Some languages do not have assigned 2-letter codes. The library uses the following two-letter codes for such languages:\n",
    "\n",
    " - Konkani : kK\n",
    " - Manipuri : mP\n",
    " - Bodo : bD"
   ]
  },
  {
   "cell_type": "markdown",
   "id": "92bb754d-86fc-4766-be56-0fd75fac102e",
   "metadata": {},
   "source": [
    "## Text Normalization"
   ]
  },
  {
   "cell_type": "markdown",
   "id": "9b14ccb7-1fe2-4dd3-a445-ee0e120f3e97",
   "metadata": {},
   "source": [
    "Standardize the text written in Indic scripts. Some of the issues handled are\n",
    " - Non-spacing characters\n",
    " - Multiple representations of Nukta based characters\n",
    " - Multiple representations of two part dependent vowel signs\n",
    " - Typing inconsistencies: e.g. use of pipe (|) for poorna virama"
   ]
  },
  {
   "cell_type": "code",
   "execution_count": null,
   "id": "f8b8f795-f5f4-4a28-afd7-92c0efb95331",
   "metadata": {},
   "outputs": [],
   "source": [
    "def normalize_text(input_text, normalizer):\n",
    "    output_text=normalizer.normalize(input_text)\n",
    "\n",
    "    print(input_text)\n",
    "    print()\n",
    "\n",
    "    print('Before normalization')\n",
    "    print(' '.join([ hex(ord(c)) for c in input_text ] ))\n",
    "    print('Length: {}'.format(len(input_text)))\n",
    "    print()    \n",
    "    print('After normalization')\n",
    "    print(' '.join([ hex(ord(c)) for c in output_text ] ))\n",
    "    print('Length: {}'.format(len(output_text)))    "
   ]
  },
  {
   "cell_type": "code",
   "execution_count": null,
   "id": "b86dce35-0f70-4390-be4a-6fb9687ecddd",
   "metadata": {},
   "outputs": [],
   "source": [
    "from indicnlp.normalize.indic_normalize import IndicNormalizerFactory\n",
    "\n",
    "factory=IndicNormalizerFactory()\n",
    "normalizer=factory.get_normalizer(\"hi\")\n",
    "# Reference for Hindi https://unicode.org/charts/PDF/U0900.pdf\n",
    "\n",
    "input_text=\"\\u0958 \\u0915\\u093c\"\n",
    "\n",
    "normalize_text( input_text, normalizer )\n",
    "\n",
    "input_text=\"\\u0959 \\u0916\\u093c\"\n",
    "\n",
    "normalize_text( input_text, normalizer )"
   ]
  },
  {
   "cell_type": "markdown",
   "id": "cef56f0a-a51c-42d9-961b-8a6a4f7baad3",
   "metadata": {},
   "source": [
    "#### To-Do: Find more instances of such issues in Hindi or your native language and print them here"
   ]
  },
  {
   "cell_type": "code",
   "execution_count": null,
   "id": "a08d98d2-c0b0-441f-a212-988049a5f155",
   "metadata": {},
   "outputs": [],
   "source": []
  },
  {
   "cell_type": "markdown",
   "id": "28ce4041-4cce-4dc2-be27-026a40936a55",
   "metadata": {},
   "source": [
    "### Sentence Splitter"
   ]
  },
  {
   "cell_type": "markdown",
   "id": "b26fb0da-48d9-4d31-854f-2c4ca9b75ee0",
   "metadata": {},
   "source": [
    "Rule-based system to split text into sentences"
   ]
  },
  {
   "cell_type": "code",
   "execution_count": null,
   "id": "dbdc9fe6-def7-4459-a497-6fa857624f71",
   "metadata": {},
   "outputs": [],
   "source": [
    "from indicnlp.tokenize import sentence_tokenize\n",
    "\n",
    "indic_string=\"बहुत समय पहले की बात है. एक घने जंगल में एक तोता अपने दो बच्चों के साथ रहता है. उनका जीवन ख़ुशी-ख़ुशी बीत रहा था.\"\n",
    "sentences=sentence_tokenize.sentence_split(indic_string, lang='hi')\n",
    "for t in sentences:\n",
    "    print(t)\n"
   ]
  },
  {
   "cell_type": "markdown",
   "id": "dc8930ca-c113-4fa2-8a75-b2fe65790c60",
   "metadata": {},
   "source": [
    "#### To-Do: Experiment with sentence-splitting for your native language. Find instances where the model could fail"
   ]
  },
  {
   "cell_type": "code",
   "execution_count": null,
   "id": "0a5891df-ede1-47cc-86cc-cbc7b7439535",
   "metadata": {},
   "outputs": [],
   "source": []
  },
  {
   "cell_type": "markdown",
   "id": "3dc04951-0ca9-4cd2-bb8d-69a4dcf3ca4d",
   "metadata": {},
   "source": [
    "### Tokenization"
   ]
  },
  {
   "cell_type": "markdown",
   "id": "9f06ae4f-a3f7-4eed-9719-962158176446",
   "metadata": {},
   "source": [
    "Tokenize based on punctuation boundary"
   ]
  },
  {
   "cell_type": "code",
   "execution_count": null,
   "id": "2f6e3d74-2aef-483a-a1a6-7ddcaa49ce3b",
   "metadata": {},
   "outputs": [],
   "source": [
    "from indicnlp.tokenize import indic_tokenize  \n",
    "\n",
    "indic_string='उनका जीवन ख़ुशी-ख़ुशी बीत रहा था.'\n",
    "\n",
    "print('Input String: {}'.format(indic_string))\n",
    "print('Tokens: ')\n",
    "for t in indic_tokenize.trivial_tokenize(indic_string): \n",
    "    print(t)"
   ]
  },
  {
   "cell_type": "markdown",
   "id": "3f19e738-815a-42fd-ac8c-6ac0547c0419",
   "metadata": {},
   "source": [
    "#### Detokenization"
   ]
  },
  {
   "cell_type": "markdown",
   "id": "15638087-b7ca-4f19-bc58-3a5f9f9a22c0",
   "metadata": {},
   "source": [
    "It is natural to not add white-space between words and punctuations. The detokenizer handles that part"
   ]
  },
  {
   "cell_type": "code",
   "execution_count": null,
   "id": "f47ffa67-be15-4b87-b8e2-bac78b73c851",
   "metadata": {},
   "outputs": [],
   "source": [
    "from indicnlp.tokenize import indic_detokenize  \n",
    "indic_string = ' '.join( indic_tokenize.trivial_tokenize(indic_string) )\n",
    "\n",
    "print('Input String: {}'.format(indic_string))\n",
    "print('Detokenized String: {}'.format(indic_detokenize.trivial_detokenize(indic_string,lang='hi')))\n"
   ]
  },
  {
   "cell_type": "markdown",
   "id": "07132541-8506-4752-a314-e06f03f2be62",
   "metadata": {},
   "source": [
    "#### To-Do: Experiment with tokenization for your native language."
   ]
  },
  {
   "cell_type": "code",
   "execution_count": null,
   "id": "1e9c62a1-4cb3-448f-9e55-8f8efd83db53",
   "metadata": {},
   "outputs": [],
   "source": []
  },
  {
   "cell_type": "markdown",
   "id": "f361eeb5-32e2-4859-a022-390fe22e7345",
   "metadata": {},
   "source": [
    "### Script Conversion"
   ]
  },
  {
   "cell_type": "markdown",
   "id": "30bf7fb1-08c7-448e-94d3-4d33cb997d10",
   "metadata": {},
   "source": [
    "Convert from one Indic script to another using a rule-based system"
   ]
  },
  {
   "cell_type": "markdown",
   "id": "33343212-e504-4833-9e54-7151daed50ab",
   "metadata": {},
   "source": [
    "The following scripts are supported:\n",
    "\n",
    "Devanagari (Hindi,Marathi,Sanskrit,Konkani,Sindhi,Nepali), Assamese, Bengali, Oriya, Gujarati, Gurumukhi (Punjabi), Sindhi, Tamil, Telugu, Kannada, Malayalam"
   ]
  },
  {
   "cell_type": "code",
   "execution_count": null,
   "id": "c4e3d3fa-6b3b-4878-88d1-9d63ae841ba5",
   "metadata": {},
   "outputs": [],
   "source": [
    "from indicnlp.transliterate.unicode_transliterate import UnicodeIndicTransliterator\n",
    "input_text = 'राजस्थान'\n",
    "print(UnicodeIndicTransliterator.transliterate(input_text,\"hi\",\"kn\"))"
   ]
  },
  {
   "cell_type": "markdown",
   "id": "f32a8d89-cf4a-4ef3-a230-0fb1af01f806",
   "metadata": {},
   "source": [
    "#### To-Do: Experiment with Script conversion between various language pairs"
   ]
  },
  {
   "cell_type": "code",
   "execution_count": null,
   "id": "32ea0b25-6206-4369-99ab-864f0b53b2c5",
   "metadata": {},
   "outputs": [],
   "source": []
  },
  {
   "cell_type": "markdown",
   "id": "99945fff-9bd1-461b-bcc7-4d66c5ed459e",
   "metadata": {},
   "source": [
    "### Romanization"
   ]
  },
  {
   "cell_type": "markdown",
   "id": "7187d3b4-2dee-4bc8-a2aa-800d6d47cd1a",
   "metadata": {},
   "source": [
    "Convert script text to Roman text in the ITRANS notation"
   ]
  },
  {
   "cell_type": "code",
   "execution_count": null,
   "id": "25b309ac-d1fd-4350-ad34-c0a47121836f",
   "metadata": {},
   "outputs": [],
   "source": [
    "from indicnlp.transliterate.unicode_transliterate import ItransTransliterator\n",
    "\n",
    "input_text = 'ರುದ್ರ ಮೂರ್ತಿ'\n",
    "lang='kn'\n",
    "\n",
    "itrans_text = ItransTransliterator.to_itrans(input_text,lang)\n",
    "\n",
    "print(itrans_text)\n"
   ]
  },
  {
   "cell_type": "markdown",
   "id": "2db72ccb-9d0f-40bd-82c6-2d8cd7ed07c8",
   "metadata": {},
   "source": [
    "#### To-Do: Experiment with Romanization between your native language and English"
   ]
  },
  {
   "cell_type": "code",
   "execution_count": null,
   "id": "d4a04aaa-5979-414f-af49-cd377fc14465",
   "metadata": {},
   "outputs": [],
   "source": []
  },
  {
   "cell_type": "markdown",
   "id": "b5923795-0cfe-436c-8294-c5471da47347",
   "metadata": {},
   "source": [
    "### Indicization (ITRANS to Indic Script)"
   ]
  },
  {
   "cell_type": "markdown",
   "id": "dbde1bc2-cae3-4260-909c-80011b4e3509",
   "metadata": {},
   "source": [
    "Convert script text in ITRANS notation to Indic script"
   ]
  },
  {
   "cell_type": "code",
   "execution_count": null,
   "id": "afa14bcd-7611-484a-bd9a-ab05484984c7",
   "metadata": {},
   "outputs": [],
   "source": [
    "from indicnlp.transliterate.unicode_transliterate import ItransTransliterator\n",
    "\n",
    "lang='kn'\n",
    "\n",
    "x = ItransTransliterator.from_itrans(itrans_text,lang)\n",
    "print(x)\n",
    "for y in x:\n",
    "    print('{:x}'.format(ord(y)))\n"
   ]
  },
  {
   "cell_type": "markdown",
   "id": "c8591b73-d358-4d7b-bd62-684e6a86f822",
   "metadata": {},
   "source": [
    "### Word Segmentation"
   ]
  },
  {
   "cell_type": "markdown",
   "id": "7c46647e-e671-412c-b68a-b9120c63e51f",
   "metadata": {},
   "source": [
    "Perform unsupervised word segmentation using Morfessor\n",
    "\n",
    "The following languages are supported:\n",
    "\n",
    "Hindi, Punjabi, Marathi, Konkani, Gujarati, Bengali, Kannada, Tamil, Telugu, Malayalam"
   ]
  },
  {
   "cell_type": "code",
   "execution_count": null,
   "id": "6b1b415e-1a3c-47ef-ac3d-bcf7f408d406",
   "metadata": {},
   "outputs": [],
   "source": [
    "from indicnlp.morph import unsupervised_morph \n",
    "from indicnlp import common\n",
    "\n",
    "analyzer=unsupervised_morph.UnsupervisedMorphAnalyzer('kn')"
   ]
  },
  {
   "cell_type": "code",
   "execution_count": null,
   "id": "52d49870-297d-4332-a2f1-b95c8fdcca10",
   "metadata": {},
   "outputs": [],
   "source": [
    "indic_string='ರೈತನೊಬ್ಬನ ತೋಟದಲ್ಲಿದ್ದ ಸೇಬು ಮರದಲ್ಲಿಒಂದೇ ಒಂದು ಹಣ್ಣು ಬೆಳೆಯಿತು .'\n",
    "\n",
    "analyzes_tokens=analyzer.morph_analyze_document(indic_string.split(' '))\n",
    "\n",
    "for w in analyzes_tokens: \n",
    "    print(w)"
   ]
  },
  {
   "cell_type": "markdown",
   "id": "088faadb-6579-463e-93fd-a82696682311",
   "metadata": {},
   "source": [
    "#### To-Do: Experiment with Word Segmentation for your native language"
   ]
  },
  {
   "cell_type": "code",
   "execution_count": null,
   "id": "4dc9d347-2eb9-472d-8270-643f961a9632",
   "metadata": {},
   "outputs": [],
   "source": []
  }
 ],
 "metadata": {
  "kernelspec": {
   "display_name": "Python 3 (ipykernel)",
   "language": "python",
   "name": "python3"
  },
  "language_info": {
   "codemirror_mode": {
    "name": "ipython",
    "version": 3
   },
   "file_extension": ".py",
   "mimetype": "text/x-python",
   "name": "python",
   "nbconvert_exporter": "python",
   "pygments_lexer": "ipython3",
   "version": "3.9.7"
  }
 },
 "nbformat": 4,
 "nbformat_minor": 5
}
