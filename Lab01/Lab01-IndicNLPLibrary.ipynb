{
 "cells": [
  {
   "cell_type": "markdown",
   "id": "08ca6537-c36d-4f27-8ba5-f5a78c838913",
   "metadata": {},
   "source": [
    "# Introduction to Indic NLP Library"
   ]
  },
  {
   "cell_type": "markdown",
   "id": "28074f68-d1b8-4e07-85db-5fef8f571ac9",
   "metadata": {},
   "source": [
    "Now we will have some hands-on experince using Indic NLP Library"
   ]
  },
  {
   "cell_type": "code",
   "execution_count": null,
   "id": "8f504532-fa35-4fa5-984a-d3a5d60a2cd3",
   "metadata": {},
   "outputs": [],
   "source": []
  }
 ],
 "metadata": {
  "kernelspec": {
   "display_name": "Python 3 (ipykernel)",
   "language": "python",
   "name": "python3"
  },
  "language_info": {
   "codemirror_mode": {
    "name": "ipython",
    "version": 3
   },
   "file_extension": ".py",
   "mimetype": "text/x-python",
   "name": "python",
   "nbconvert_exporter": "python",
   "pygments_lexer": "ipython3",
   "version": "3.8.0"
  }
 },
 "nbformat": 4,
 "nbformat_minor": 5
}
