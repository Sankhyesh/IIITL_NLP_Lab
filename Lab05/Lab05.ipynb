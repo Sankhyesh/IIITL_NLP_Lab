{
 "cells": [
  {
   "cell_type": "markdown",
   "id": "graduate-florida",
   "metadata": {},
   "source": [
    "# Lab 05 - Feature Vectors and Language Models\n",
    "In this lab we will continue working with words as features, but the focus will be to build language models.\n",
    "Remember that we have only discussed count-based vectorization.\n",
    "First, let's make sure the libraries we'll be using are installed and initialized:"
   ]
  },
  {
   "cell_type": "code",
   "execution_count": 1,
   "id": "30409a91",
   "metadata": {},
   "outputs": [
    {
     "name": "stdout",
     "output_type": "stream",
     "text": [
      "Requirement already satisfied: numpy in c:\\users\\sankh\\anaconda3\\envs\\nlplab\\lib\\site-packages (1.22.1)\n",
      "Requirement already satisfied: pandas in c:\\users\\sankh\\anaconda3\\envs\\nlplab\\lib\\site-packages (1.3.5)\n",
      "Requirement already satisfied: nltk in c:\\users\\sankh\\anaconda3\\envs\\nlplab\\lib\\site-packages (3.6.7)\n",
      "Requirement already satisfied: matplotlib in c:\\users\\sankh\\anaconda3\\envs\\nlplab\\lib\\site-packages (3.3.4)\n",
      "Requirement already satisfied: python-dateutil>=2.7.3 in c:\\users\\sankh\\anaconda3\\envs\\nlplab\\lib\\site-packages (from pandas) (2.8.2)\n",
      "Requirement already satisfied: pytz>=2017.3 in c:\\users\\sankh\\anaconda3\\envs\\nlplab\\lib\\site-packages (from pandas) (2021.3)\n",
      "Requirement already satisfied: click in c:\\users\\sankh\\anaconda3\\envs\\nlplab\\lib\\site-packages (from nltk) (8.0.3)\n",
      "Requirement already satisfied: tqdm in c:\\users\\sankh\\anaconda3\\envs\\nlplab\\lib\\site-packages (from nltk) (4.62.1)\n",
      "Requirement already satisfied: regex>=2021.8.3 in c:\\users\\sankh\\anaconda3\\envs\\nlplab\\lib\\site-packages (from nltk) (2022.1.18)\n",
      "Requirement already satisfied: joblib in c:\\users\\sankh\\anaconda3\\envs\\nlplab\\lib\\site-packages (from nltk) (1.1.0)\n",
      "Requirement already satisfied: pillow>=6.2.0 in c:\\users\\sankh\\anaconda3\\envs\\nlplab\\lib\\site-packages (from matplotlib) (9.0.0)\n",
      "Requirement already satisfied: kiwisolver>=1.0.1 in c:\\users\\sankh\\anaconda3\\envs\\nlplab\\lib\\site-packages (from matplotlib) (1.3.2)\n",
      "Requirement already satisfied: pyparsing!=2.0.4,!=2.1.2,!=2.1.6,>=2.0.3 in c:\\users\\sankh\\anaconda3\\envs\\nlplab\\lib\\site-packages (from matplotlib) (3.0.4)\n",
      "Requirement already satisfied: cycler>=0.10 in c:\\users\\sankh\\anaconda3\\envs\\nlplab\\lib\\site-packages (from matplotlib) (0.11.0)\n",
      "Requirement already satisfied: six>=1.5 in c:\\users\\sankh\\anaconda3\\envs\\nlplab\\lib\\site-packages (from python-dateutil>=2.7.3->pandas) (1.16.0)\n",
      "Requirement already satisfied: colorama in c:\\users\\sankh\\anaconda3\\envs\\nlplab\\lib\\site-packages (from click->nltk) (0.4.4)\n",
      "Note: you may need to restart the kernel to use updated packages.\n"
     ]
    }
   ],
   "source": [
    "%pip install numpy pandas nltk matplotlib\n",
    "%matplotlib inline"
   ]
  },
  {
   "cell_type": "markdown",
   "id": "5fd7019d",
   "metadata": {},
   "source": [
    "\n",
    "## Words as Feature Vectors\n",
    "First, let's look at some text collections directly available in [NLTK](https://www.nltk.org).\n",
    "\n",
    "To explore all the available Corpora in NLTK we just need to run a command and list the available resources, after we have downloaded them. The documentation on NLTK's [website](https://www.nltk.org/book/ch02.html) will give you more details on each Corpus.\n",
    "\n",
    "There are many interesting collections such as: the Gutenberg collection of books, the  Brown collection of news, novels and other stories, and the USA presidential inaugural speeches.\n",
    "\n",
    "Let's start by downloading the resources. NLTK's `download()` command will launch a GUI, or a CLI to let you select the data you want to install.\n",
    "\n",
    "**Use it to download the `inaugural` Corpus.**"
   ]
  },
  {
   "cell_type": "code",
   "execution_count": 2,
   "id": "first-trading",
   "metadata": {},
   "outputs": [
    {
     "name": "stderr",
     "output_type": "stream",
     "text": [
      "[nltk_data] Downloading package inaugural to\n",
      "[nltk_data]     C:\\Users\\sankh\\AppData\\Roaming\\nltk_data...\n",
      "[nltk_data]   Package inaugural is already up-to-date!\n"
     ]
    },
    {
     "data": {
      "text/plain": [
       "True"
      ]
     },
     "execution_count": 2,
     "metadata": {},
     "output_type": "execute_result"
    }
   ],
   "source": [
    "import nltk\n",
    "\n",
    "nltk.download('inaugural')"
   ]
  },
  {
   "cell_type": "markdown",
   "id": "paperback-morris",
   "metadata": {},
   "source": [
    "Now we should be able to list the downloaded resources as well."
   ]
  },
  {
   "cell_type": "code",
   "execution_count": 3,
   "id": "acknowledged-principal",
   "metadata": {},
   "outputs": [
    {
     "name": "stdout",
     "output_type": "stream",
     "text": [
      "['abc', 'abc.zip', 'alpino', 'alpino.zip', 'biocreative_ppi', 'biocreative_ppi.zip', 'brown', 'brown.zip', 'brown_tei', 'brown_tei.zip', 'cess_cat', 'cess_cat.zip', 'cess_esp', 'cess_esp.zip', 'chat80', 'chat80.zip', 'city_database', 'city_database.zip', 'cmudict', 'cmudict.zip', 'comparative_sentences', 'comparative_sentences.zip', 'comtrans.zip', 'conll2000', 'conll2000.zip', 'conll2002', 'conll2002.zip', 'conll2007.zip', 'crubadan', 'crubadan.zip', 'dependency_treebank', 'dependency_treebank.zip', 'dolch', 'dolch.zip', 'europarl_raw', 'europarl_raw.zip', 'extended_omw', 'extended_omw.zip', 'floresta', 'floresta.zip', 'framenet_v15', 'framenet_v15.zip', 'framenet_v17', 'framenet_v17.zip', 'gazetteers', 'gazetteers.zip', 'genesis', 'genesis.zip', 'gutenberg', 'gutenberg.zip', 'ieer', 'ieer.zip', 'inaugural', 'inaugural.zip', 'indian', 'indian.zip', 'jeita.zip', 'kimmo', 'kimmo.zip', 'knbc.zip', 'lin_thesaurus', 'lin_thesaurus.zip', 'machado.zip', 'mac_morpho', 'mac_morpho.zip', 'masc_tagged.zip', 'movie_reviews', 'movie_reviews.zip', 'mte_teip5', 'mte_teip5.zip', 'names', 'names.zip', 'nombank.1.0.zip', 'nonbreaking_prefixes', 'nonbreaking_prefixes.zip', 'nps_chat', 'nps_chat.zip', 'omw', 'omw-1.4', 'omw-1.4.zip', 'omw.zip', 'opinion_lexicon', 'opinion_lexicon.zip', 'panlex_swadesh.zip', 'paradigms', 'paradigms.zip', 'pe08', 'pe08.zip', 'pil', 'pil.zip', 'pl196x', 'pl196x.zip', 'ppattach', 'ppattach.zip', 'problem_reports', 'problem_reports.zip', 'product_reviews_1', 'product_reviews_1.zip', 'product_reviews_2', 'product_reviews_2.zip', 'propbank.zip', 'pros_cons', 'pros_cons.zip', 'ptb', 'ptb.zip', 'qc', 'qc.zip', 'reuters.zip', 'rte', 'rte.zip', 'semcor.zip', 'senseval', 'senseval.zip', 'sentence_polarity', 'sentence_polarity.zip', 'sentiwordnet', 'sentiwordnet.zip', 'shakespeare', 'shakespeare.zip', 'sinica_treebank', 'sinica_treebank.zip', 'smultron', 'smultron.zip', 'state_union', 'state_union.zip', 'stopwords', 'stopwords.zip', 'subjectivity', 'subjectivity.zip', 'swadesh', 'swadesh.zip', 'switchboard', 'switchboard.zip', 'timit', 'timit.zip', 'toolbox', 'toolbox.zip', 'treebank', 'treebank.zip', 'twitter_samples', 'twitter_samples.zip', 'udhr', 'udhr.zip', 'udhr2', 'udhr2.zip', 'unicode_samples', 'unicode_samples.zip', 'universal_treebanks_v20.zip', 'verbnet', 'verbnet.zip', 'verbnet3', 'verbnet3.zip', 'webtext', 'webtext.zip', 'wordnet', 'wordnet.zip', 'wordnet2021', 'wordnet2021.zip', 'wordnet31', 'wordnet31.zip', 'wordnet_ic', 'wordnet_ic.zip', 'words', 'words.zip', 'ycoe', 'ycoe.zip']\n"
     ]
    }
   ],
   "source": [
    "import os\n",
    "\n",
    "print(os.listdir(nltk.data.find(\"corpora\")))"
   ]
  },
  {
   "cell_type": "markdown",
   "id": "concerned-casino",
   "metadata": {},
   "source": [
    "So to start with, let's experiment with the USA Presidential inaugural speeches."
   ]
  },
  {
   "cell_type": "code",
   "execution_count": 4,
   "id": "fixed-metropolitan",
   "metadata": {},
   "outputs": [
    {
     "name": "stdout",
     "output_type": "stream",
     "text": [
      "['1789-Washington.txt', '1793-Washington.txt', '1797-Adams.txt', '1801-Jefferson.txt', '1805-Jefferson.txt', '1809-Madison.txt', '1813-Madison.txt', '1817-Monroe.txt', '1821-Monroe.txt', '1825-Adams.txt', '1829-Jackson.txt', '1833-Jackson.txt', '1837-VanBuren.txt', '1841-Harrison.txt', '1845-Polk.txt', '1849-Taylor.txt', '1853-Pierce.txt', '1857-Buchanan.txt', '1861-Lincoln.txt', '1865-Lincoln.txt', '1869-Grant.txt', '1873-Grant.txt', '1877-Hayes.txt', '1881-Garfield.txt', '1885-Cleveland.txt', '1889-Harrison.txt', '1893-Cleveland.txt', '1897-McKinley.txt', '1901-McKinley.txt', '1905-Roosevelt.txt', '1909-Taft.txt', '1913-Wilson.txt', '1917-Wilson.txt', '1921-Harding.txt', '1925-Coolidge.txt', '1929-Hoover.txt', '1933-Roosevelt.txt', '1937-Roosevelt.txt', '1941-Roosevelt.txt', '1945-Roosevelt.txt', '1949-Truman.txt', '1953-Eisenhower.txt', '1957-Eisenhower.txt', '1961-Kennedy.txt', '1965-Johnson.txt', '1969-Nixon.txt', '1973-Nixon.txt', '1977-Carter.txt', '1981-Reagan.txt', '1985-Reagan.txt', '1989-Bush.txt', '1993-Clinton.txt', '1997-Clinton.txt', '2001-Bush.txt', '2005-Bush.txt', '2009-Obama.txt', '2013-Obama.txt', '2017-Trump.txt', '2021-Biden.txt']\n"
     ]
    }
   ],
   "source": [
    "from nltk.corpus import inaugural\n",
    "print(inaugural.fileids())"
   ]
  },
  {
   "cell_type": "markdown",
   "id": "particular-beginning",
   "metadata": {},
   "source": [
    "Lets print Trump's one!"
   ]
  },
  {
   "cell_type": "code",
   "execution_count": 5,
   "id": "partial-boards",
   "metadata": {},
   "outputs": [
    {
     "name": "stdout",
     "output_type": "stream",
     "text": [
      "Chief Justice Roberts, President Carter, President Clinton, President Bush, President Obama, fellow Americans, and people of the world: Thank you.\n",
      "\n",
      "We, the citizens of America, are now joined in a great national effort to rebuild our country and restore its promise for all of our people. Together, we will determine the course of America and the world for many, many years to come. We will face challenges, we will confront hardships, but we will get the job done.\n",
      "\n",
      "Every 4 years, we gather on these steps to carry out the orderly and peaceful transfer of power, and we are grateful to President Obama and First Lady Michelle Obama for their gracious aid throughout this transition. They have been magnificent. Thank you.\n",
      "\n",
      "Today's ceremony, however, has very special meaning. Because today we are not merely transferring power from one administration to another or from one party to another, but we are transferring power from Washington, DC, and giving it back to you, the people.\n",
      "\n",
      "For too long, a small group in our Nation's Capital has reaped the rewards of Government while the people have borne the cost. Washington flourished, but the people did not share in its wealth. Politicians prospered, but the jobs left, and the factories closed. The establishment protected itself, but not the citizens of our country. Their victories have not been your victories; their triumphs have not been your triumphs; and while they celebrated in our Nation's Capital, there was little to celebrate for struggling families all across our land.\n",
      "\n",
      "That all changes, starting right here and right now, because this moment is your moment: It belongs to you. It belongs to everyone gathered here today and everyone watching all across America. This is your day. This is your celebration. And this, the United States of America, is your country.\n",
      "\n",
      "What truly matters is not which party controls our Government, but whether our Government is controlled by the people. January 20, 2017, will be remembered as the day the people became the rulers of this Nation again. The forgotten men and women of our country will be forgotten no longer. Everyone is listening to you now.\n",
      "\n",
      "You came by the tens of millions to become part of a historic movement the likes of which the world has never seen before. At the center of this movement is a crucial conviction: that a nation exists to serve its citizens. Americans want great schools for their children, safe neighborhoods for their families, and good jobs for themselves. These are just and reasonable demands of righteous people and a righteous public.\n",
      "\n",
      "But for too many of our citizens, a different reality exists: Mothers and children trapped in poverty in our inner cities; rusted-out factories scattered like tombstones across the landscape of our Nation; an education system, flush with cash, but which leaves our young and beautiful students deprived of all knowledge; and the crime and the gangs and the drugs that have stolen too many lives and robbed our country of so much unrealized potential.\n",
      "\n",
      "This American carnage stops right here and stops right now. We are one Nation, and their pain is our pain, their dreams are our dreams, and their success will be our success. We share one heart, one home, and one glorious destiny.\n",
      "\n",
      "The oath of office I take today is an oath of allegiance to all Americans.\n",
      "\n",
      "For many decades, we've enriched foreign industry at the expense of American industry, subsidized the armies of other countries while allowing for the very sad depletion of our military. We've defended other nations' borders while refusing to defend our own and spent trillions and trillions of dollars overseas while America's infrastructure has fallen into disrepair and decay. We've made other countries rich while the wealth, strength, and confidence of our country has dissipated over the horizon.\n",
      "\n",
      "One by one, the factories shuttered and left our shores, with not even a thought about the millions and millions of American workers that were left behind. The wealth of our middle class has been ripped from their homes and then redistributed all across the world.\n",
      "\n",
      "But that is the past. And now we are looking only to the future.\n",
      "\n",
      "We, assembled here today, are issuing a new decree to be heard in every city, in every foreign capital, and in every hall of power. From this day forward, a new vision will govern our land. From this this day forward, it's going to be only America first. America first.\n",
      "\n",
      "Every decision on trade, on taxes, on immigration, on foreign affairs, will be made to benefit American workers and American families.\n",
      "\n",
      "We must protect our borders from the ravages of other countries making our products, stealing our companies, and destroying our jobs. Protection will lead to great prosperity and strength. I will fight for you with every breath in my body, and I will never, ever let you down.\n",
      "\n",
      "America will start winning again, winning like never before. We will bring back our jobs. We will bring back our borders. We will bring back our wealth. And we will bring back our dreams.\n",
      "\n",
      "We will build new roads and highways and bridges and airports and tunnels and railways all across our wonderful Nation.\n",
      "\n",
      "We will get our people off of welfare and back to work, rebuilding our country with American hands and American labor. We will follow two simple rules: Buy American and hire American.\n",
      "\n",
      "We will seek friendship and good will with the nations of the world, but we do so with the understanding that it is the right of all nations to put their own interests first. We do not seek to impose our way of life on anyone, but rather to let it shine as an exampleâwe will shineâfor everyone to follow.\n",
      "\n",
      "We will reinforce old alliances and form new ones and unite the civilized world against radical Islamic terrorism, which we will eradicate completely from the face of the Earth.\n",
      "\n",
      "At the bedrock of our politics will be a total allegiance to the United States of America, and through our loyalty to our country, we will rediscover our loyalty to each other. When you open your heart to patriotism, there is no room for prejudice. The Bible tells us, \"How good and pleasant it is when God's people live together in unity.\" We must speak our minds openly, debate our disagreements honestly, but always pursue solidarity. When America is united, America is totally unstoppable. There should be no fear: We are protected, and we will always be protected. We will be protected by the great men and women of our military and law enforcement, and most importantly, we will be protected by God.\n",
      "\n",
      "Finally, we must think big and dream even bigger. In America, we understand that a nation is only living as long as it is striving.\n",
      "\n",
      "We will no longer accept politicians who are all talk and no action, constantly complaining, but never doing anything about it. The time for empty talk is over. Now arrives the hour of action.\n",
      "\n",
      "Do not allow anyone to tell you that it cannot be done. No challenge can match the heart and fight and spirit of America. We will not fail. Our country will thrive and prosper again.\n",
      "\n",
      "We stand at the birth of a new millennium, ready to unlock the mysteries of space, to free the Earth from the miseries of disease, and to harness the energies, industries, and technologies of tomorrow. A new national pride will stir our souls, lift our sights, and heal our divisions.\n",
      "\n",
      "It's time to remember that old wisdom our soldiers will never forget: that whether we are Black or Brown or White, we all bleed the same red blood of patriots, we all enjoy the same glorious freedoms, and we all salute the same great American flag.\n",
      "\n",
      "And whether a child is born in the urban sprawl of Detroit or the windswept plains of Nebraska, they look up at the same night sky, they fill their heart with the same dreams, and they are infused with the breath of life by the same almighty Creator.\n",
      "\n",
      "So to all Americans in every city near and far, small and large, from mountain to mountain, from ocean to ocean, hear these words: You will never be ignored again. Your voice, your hopes, and your dreams will define our American destiny. And your courage and goodness and love will forever guide us along the way.\n",
      "\n",
      "Together, we will make America strong again. We will make America wealthy again. We will make America proud again. We will make America safe again.\n",
      "\n",
      "And, yes, together, we will make America great again. Thank you. God bless you, and God bless America. Thank you. God bless America.\n",
      "\n"
     ]
    }
   ],
   "source": [
    "doc = \"2017-Trump.txt\"\n",
    "print(inaugural.raw(doc))"
   ]
  },
  {
   "cell_type": "markdown",
   "id": "animal-colonial",
   "metadata": {},
   "source": [
    "NLTK corpora gives us all the words and sentences as well as other statistics out of the box."
   ]
  },
  {
   "cell_type": "code",
   "execution_count": 6,
   "id": "bulgarian-memorabilia",
   "metadata": {},
   "outputs": [
    {
     "name": "stdout",
     "output_type": "stream",
     "text": [
      "['Chief', 'Justice', 'Roberts', ',', 'President', ...]\n"
     ]
    }
   ],
   "source": [
    "print(inaugural.words(doc))"
   ]
  },
  {
   "cell_type": "code",
   "execution_count": 7,
   "id": "invalid-convenience",
   "metadata": {},
   "outputs": [
    {
     "name": "stdout",
     "output_type": "stream",
     "text": [
      "[['Chief', 'Justice', 'Roberts', ',', 'President', 'Carter', ',', 'President', 'Clinton', ',', 'President', 'Bush', ',', 'President', 'Obama', ',', 'fellow', 'Americans', ',', 'and', 'people', 'of', 'the', 'world', ':', 'Thank', 'you', '.'], ['We', ',', 'the', 'citizens', 'of', 'America', ',', 'are', 'now', 'joined', 'in', 'a', 'great', 'national', 'effort', 'to', 'rebuild', 'our', 'country', 'and', 'restore', 'its', 'promise', 'for', 'all', 'of', 'our', 'people', '.'], ...]\n"
     ]
    },
    {
     "name": "stderr",
     "output_type": "stream",
     "text": [
      "[nltk_data] Downloading package punkt to\n",
      "[nltk_data]     C:\\Users\\sankh\\AppData\\Roaming\\nltk_data...\n",
      "[nltk_data]   Package punkt is already up-to-date!\n"
     ]
    }
   ],
   "source": [
    "nltk.download(\"punkt\")\n",
    "print(inaugural.sents(doc))"
   ]
  },
  {
   "cell_type": "markdown",
   "id": "characteristic-caribbean",
   "metadata": {},
   "source": [
    "## Challenge 01\n",
    "Given this incomplete function, write the necessary `TODO X` code to let the function return the total number of words and the total number of distinct words, for a given document name in that corpus."
   ]
  },
  {
   "cell_type": "code",
   "execution_count": 33,
   "id": "formal-package",
   "metadata": {},
   "outputs": [],
   "source": [
    "def calculate_inaugural_stats(doc):\n",
    "    # TODO 1 - Get the pre-tokenised list of words from the inaugural corpus\n",
    "    doc_words = ...\n",
    "\n",
    "    # TODO 2 - Calculate the total number of words\n",
    "    num_words = ...\n",
    "\n",
    "    # TODO 3 - Calculate the total number of distinct words (vocabulary)\n",
    "    vocab = ...\n",
    "\n",
    "    return num_words, vocab"
   ]
  },
  {
   "cell_type": "markdown",
   "id": "returning-seller",
   "metadata": {},
   "source": [
    "Now let's test it!"
   ]
  },
  {
   "cell_type": "code",
   "execution_count": 9,
   "id": "passing-bride",
   "metadata": {},
   "outputs": [
    {
     "name": "stdout",
     "output_type": "stream",
     "text": [
      "Num words in 2017-Trump.txt: Ellipsis\n",
      "Vocabulary size: Ellipsis\n"
     ]
    }
   ],
   "source": [
    "def print_inaugural_stats(speech_name):\n",
    "    tokens, vocab = calculate_inaugural_stats(speech_name)\n",
    "    print(f\"Num words in {speech_name}: {tokens}\")\n",
    "    print(f\"Vocabulary size: {vocab}\")\n",
    "\n",
    "print_inaugural_stats(\"2017-Trump.txt\")"
   ]
  },
  {
   "cell_type": "markdown",
   "id": "divided-while",
   "metadata": {},
   "source": [
    "Let's compare Trump's speech against Obama's inaugural speech..."
   ]
  },
  {
   "cell_type": "code",
   "execution_count": 10,
   "id": "norman-large",
   "metadata": {},
   "outputs": [
    {
     "name": "stdout",
     "output_type": "stream",
     "text": [
      "Num words in 2009-Obama.txt: Ellipsis\n",
      "Vocabulary size: Ellipsis\n"
     ]
    }
   ],
   "source": [
    "print_inaugural_stats(\"2009-Obama.txt\")"
   ]
  },
  {
   "cell_type": "markdown",
   "id": "educational-liberal",
   "metadata": {},
   "source": [
    "## Challenge 02\n",
    "Complete the missing code (`TODO X`) in the function to calculate the average word length (i.e. number of characters per word) of a given document."
   ]
  },
  {
   "cell_type": "code",
   "execution_count": 11,
   "id": "suspended-superintendent",
   "metadata": {},
   "outputs": [],
   "source": [
    "def calculate_inaugural_word_stats(doc):\n",
    "    doc_words = inaugural.words(doc)\n",
    "\n",
    "    # TODO 1 - Construct a list that contains the word lengths for each DISTINCT word in the document\n",
    "    vocab_lengths = ...\n",
    "\n",
    "    # TODO 2 - Find the average word type length\n",
    "    avg_vocab_length = ...\n",
    "\n",
    "    return avg_vocab_length"
   ]
  },
  {
   "cell_type": "markdown",
   "id": "hollywood-salem",
   "metadata": {},
   "source": [
    "Let's try it!"
   ]
  },
  {
   "cell_type": "code",
   "execution_count": 12,
   "id": "planned-mainstream",
   "metadata": {},
   "outputs": [
    {
     "ename": "TypeError",
     "evalue": "unsupported format string passed to ellipsis.__format__",
     "output_type": "error",
     "traceback": [
      "\u001b[1;31m---------------------------------------------------------------------------\u001b[0m",
      "\u001b[1;31mTypeError\u001b[0m                                 Traceback (most recent call last)",
      "\u001b[1;32m~\\AppData\\Local\\Temp/ipykernel_26848/3630980398.py\u001b[0m in \u001b[0;36m<module>\u001b[1;34m\u001b[0m\n\u001b[0;32m      1\u001b[0m \u001b[0mspeech_name\u001b[0m \u001b[1;33m=\u001b[0m \u001b[1;34m\"2017-Trump.txt\"\u001b[0m\u001b[1;33m\u001b[0m\u001b[1;33m\u001b[0m\u001b[0m\n\u001b[0;32m      2\u001b[0m \u001b[0mavg_length\u001b[0m \u001b[1;33m=\u001b[0m \u001b[0mcalculate_inaugural_word_stats\u001b[0m\u001b[1;33m(\u001b[0m\u001b[0mspeech_name\u001b[0m\u001b[1;33m)\u001b[0m\u001b[1;33m\u001b[0m\u001b[1;33m\u001b[0m\u001b[0m\n\u001b[1;32m----> 3\u001b[1;33m \u001b[0mprint\u001b[0m\u001b[1;33m(\u001b[0m\u001b[1;34mf\"Average word length for {speech_name}: {avg_length:.2f} characters long\"\u001b[0m\u001b[1;33m)\u001b[0m\u001b[1;33m\u001b[0m\u001b[1;33m\u001b[0m\u001b[0m\n\u001b[0m",
      "\u001b[1;31mTypeError\u001b[0m: unsupported format string passed to ellipsis.__format__"
     ]
    }
   ],
   "source": [
    "speech_name = \"2017-Trump.txt\"\n",
    "avg_length = calculate_inaugural_word_stats(speech_name)\n",
    "print(f\"Average word length for {speech_name}: {avg_length:.2f} characters long\")"
   ]
  },
  {
   "cell_type": "markdown",
   "id": "blond-melissa",
   "metadata": {},
   "source": [
    "Now it will be interesting to look at the word distribution and see how the last two USA Presidents compare. NLTK again has a nice class with functions for that, `FreqDist`!"
   ]
  },
  {
   "cell_type": "code",
   "execution_count": 13,
   "id": "breathing-equation",
   "metadata": {},
   "outputs": [
    {
     "name": "stdout",
     "output_type": "stream",
     "text": [
      "\n",
      "OBAMA\n",
      " [('the', 135), (',', 130), ('and', 111), ('.', 108), ('of', 82), ('to', 70), ('our', 67), ('we', 62), ('that', 49), ('a', 47), ('is', 36), ('in', 25), ('this', 24), ('us', 23), ('for', 23), ('are', 22), (';', 22), ('--', 22), ('but', 20), ('it', 19), ('will', 19), ('on', 17), ('they', 17), ('have', 16), ('not', 16), ('you', 14), ('has', 14), ('who', 14), ('with', 13), (\"'\", 13), ('can', 13), ('nation', 12), ('be', 12), ('s', 12), ('as', 11), ('or', 11), ('those', 11), ('new', 11), ('america', 10), ('their', 10), ('-', 9), ('so', 9), ('these', 9), ('all', 9), ('by', 8), ('been', 8), ('every', 8), ('at', 8), ('because', 8), ('must', 8)]\n",
      "\n",
      "TRUMP\n",
      " [(',', 106), ('.', 89), ('and', 76), ('the', 71), ('we', 50), ('of', 48), ('our', 48), ('will', 43), ('to', 37), ('america', 20), ('is', 20), ('a', 15), ('for', 15), ('you', 14), ('in', 14), ('all', 14), ('are', 13), ('but', 13), ('be', 13), ('their', 11), ('this', 11), (\"'\", 11), ('from', 11), ('it', 11), ('your', 11), ('american', 11), ('people', 10), ('not', 10), ('that', 10), ('country', 9), ('again', 9), (':', 8), ('one', 8), ('nation', 8), ('with', 8), ('every', 7), ('s', 7), ('world', 6), ('now', 6), ('great', 6), ('on', 6), ('has', 6), ('back', 6), ('while', 6), ('by', 6), ('no', 6), ('never', 6), ('new', 6), ('same', 6), ('president', 5)]\n"
     ]
    }
   ],
   "source": [
    "from nltk import FreqDist\n",
    "\n",
    "obama_words = inaugural.words(\"2009-Obama.txt\")\n",
    "trump_words = inaugural.words(\"2017-Trump.txt\")\n",
    "\n",
    "# Construct a frequency distribution over the lowercased words in the document\n",
    "fd_obama = FreqDist(w.lower() for w in obama_words)\n",
    "# Find the top 50 most frequently used words in the speech\n",
    "print(\"\\nOBAMA\\n\", fd_obama.most_common(50))\n",
    "\n",
    "# Construct a frequency distribution over the lowercased words in the document\n",
    "fd_trump = FreqDist(w.lower() for w in trump_words)\n",
    "# Find the top 50 most frequently used words in the speech\n",
    "print(\"\\nTRUMP\\n\", fd_trump.most_common(50))"
   ]
  },
  {
   "cell_type": "markdown",
   "id": "crude-trouble",
   "metadata": {},
   "source": [
    "As you might have expected... popular words in Trump's speech are: `will`, `america`, `american`, `people`, `country`, `again`... :-)\n",
    "\n",
    "Now let's plot the distributions!"
   ]
  },
  {
   "cell_type": "code",
   "execution_count": 14,
   "id": "pediatric-domestic",
   "metadata": {},
   "outputs": [
    {
     "data": {
      "image/png": "[encoded data removed]",
      "text/plain": [
       "<Figure size 432x288 with 1 Axes>"
      ]
     },
     "metadata": {
      "needs_background": "light"
     },
     "output_type": "display_data"
    },
    {
     "data": {
      "image/png": "[encoded data removed]",
      "text/plain": [
       "<Figure size 432x288 with 1 Axes>"
      ]
     },
     "metadata": {
      "needs_background": "light"
     },
     "output_type": "display_data"
    },
    {
     "data": {
      "text/plain": [
       "<AxesSubplot:xlabel='Samples', ylabel='Counts'>"
      ]
     },
     "execution_count": 14,
     "metadata": {},
     "output_type": "execute_result"
    }
   ],
   "source": [
    "fd_obama.plot(50)\n",
    "fd_trump.plot(50)"
   ]
  },
  {
   "cell_type": "markdown",
   "id": "endangered-painting",
   "metadata": {},
   "source": [
    "Those distributions are \"normal\" and most documents or corpora will follow a very similar curve.\n",
    "\n",
    "Let's compare some word frequencies now between the two Presidents"
   ]
  },
  {
   "cell_type": "code",
   "execution_count": 15,
   "id": "honey-strip",
   "metadata": {},
   "outputs": [
    {
     "name": "stdout",
     "output_type": "stream",
     "text": [
      "Obama -> peace: 4 - america: 10\n",
      "Trump -> peace: 0 - america: 20\n"
     ]
    }
   ],
   "source": [
    "print(f\"Obama -> peace: {fd_obama['peace']} - america: {fd_obama['america']}\")\n",
    "print(f\"Trump -> peace: {fd_trump['peace']} - america: {fd_trump['america']}\")"
   ]
  },
  {
   "cell_type": "markdown",
   "id": "opponent-scholar",
   "metadata": {},
   "source": [
    "## Challenge 03\n",
    "Let's try to build a similar function that calculates the top most frequent words in a document, but using the `Counter` class that we used in the previous lab. Complete the `TODO X` sections."
   ]
  },
  {
   "cell_type": "code",
   "execution_count": 16,
   "id": "brown-defense",
   "metadata": {},
   "outputs": [],
   "source": [
    "from collections import Counter\n",
    "\n",
    "def get_top_freq(doc, k=50):\n",
    "    doc_words = inaugural.words(doc)\n",
    "    \n",
    "    # TODO 1 - Construct a frequency distribution over the words in the document, ensuring all words are lowercase\n",
    "    fd_doc_words = ...\n",
    "    \n",
    "    # TODO 2 - Find the top x most frequently used words in the document\n",
    "    top_words = ...\n",
    "\n",
    "    return top_words"
   ]
  },
  {
   "cell_type": "markdown",
   "id": "cultural-market",
   "metadata": {},
   "source": [
    "Now let's test it!"
   ]
  },
  {
   "cell_type": "code",
   "execution_count": 17,
   "id": "reduced-authentication",
   "metadata": {},
   "outputs": [
    {
     "name": "stdout",
     "output_type": "stream",
     "text": [
      "Top 50 words for Trump's 2017 speech:\n",
      "Ellipsis\n"
     ]
    }
   ],
   "source": [
    "print(f\"Top 50 words for Trump's 2017 speech:\\n{get_top_freq('2017-Trump.txt')}\")"
   ]
  },
  {
   "cell_type": "markdown",
   "id": "common-slide",
   "metadata": {},
   "source": [
    "## Challenge 04\n",
    "Now let's try to build a TFIDF feature vector!\n",
    "\n",
    "The first thing is to calculate the Term Frequency (TF).\n",
    "\n",
    "There are different ways to calculate the Term Frequency. Try to implement the formula $tf_{t,d}=\\frac{count(t,d)}{count(d)}$ that we used before in the lecture. Complete the `TODO X` section."
   ]
  },
  {
   "cell_type": "code",
   "execution_count": 18,
   "id": "challenging-chinese",
   "metadata": {},
   "outputs": [],
   "source": [
    "def calculate_tf(token_count, bow):\n",
    "    tf = {}\n",
    "    num_bow = len(bow)\n",
    "\n",
    "    for token, count in token_count.items():\n",
    "        # TODO - Calculate the term frequency using the formula:\n",
    "        # \"count of term in the document\" / \"total number of words in the document\"\n",
    "        tf[token] = ...\n",
    "\n",
    "    return tf"
   ]
  },
  {
   "cell_type": "markdown",
   "id": "recovered-quest",
   "metadata": {},
   "source": [
    "Let's try it!"
   ]
  },
  {
   "cell_type": "code",
   "execution_count": 19,
   "id": "invisible-found",
   "metadata": {},
   "outputs": [],
   "source": [
    "tokens_01 = inaugural.words(\"2017-Trump.txt\")\n",
    "tokens_02 = inaugural.words(\"2009-Obama.txt\")\n",
    "vocab = set(tokens_01).union(set(tokens_02))\n",
    "\n",
    "def _get_tf(tokens, vocab):\n",
    "    token_count = dict.fromkeys(vocab, 0)\n",
    "    for token in tokens:\n",
    "        token_count[token] += 1\n",
    "    return calculate_tf(token_count, tokens)\n",
    "\n",
    "tf_01 = _get_tf(tokens_01, vocab)\n",
    "tf_02 = _get_tf(tokens_02, vocab)\n"
   ]
  },
  {
   "cell_type": "markdown",
   "id": "professional-european",
   "metadata": {},
   "source": [
    "## Challenge 05\n",
    "Now that we have our term frequency, let's calculate the Inverse Term Frequency (IDF) for a list of documents.\n",
    "\n",
    "We are going to use the original formula here: $\\log{\\frac{N}{n_t}}$, where $N$ is the number of documents and $n_t$ is the number of documents that contain the term $t$. Complete the `TODO X` sections."
   ]
  },
  {
   "cell_type": "code",
   "execution_count": 20,
   "id": "ethical-environment",
   "metadata": {},
   "outputs": [],
   "source": [
    "import math\n",
    "\n",
    "def calculate_idf(docs):\n",
    "    N = len(docs)\n",
    "    \n",
    "    # TODO 1 - Initialise a new dictionary with the keys from the documents and the values set to 0; Remember to set the value of each key to 0, or you will see a key errorr later.\n",
    "    idf = ... \n",
    "    for doc in docs:\n",
    "        for word, val in doc.items():\n",
    "            if val > 0:\n",
    "                # TODO 2 - Increase the idf dictionary counter by one\n",
    "                ...\n",
    "    \n",
    "    for word, val in idf.items():\n",
    "        idf[word] = math.log(N / float(val))\n",
    "\n",
    "    return idf"
   ]
  },
  {
   "cell_type": "markdown",
   "id": "aquatic-textbook",
   "metadata": {},
   "source": [
    "Now let's collect all the IDFs."
   ]
  },
  {
   "cell_type": "code",
   "execution_count": 21,
   "id": "specialized-bernard",
   "metadata": {},
   "outputs": [
    {
     "ename": "TypeError",
     "evalue": "'>' not supported between instances of 'ellipsis' and 'int'",
     "output_type": "error",
     "traceback": [
      "\u001b[1;31m---------------------------------------------------------------------------\u001b[0m",
      "\u001b[1;31mTypeError\u001b[0m                                 Traceback (most recent call last)",
      "\u001b[1;32m~\\AppData\\Local\\Temp/ipykernel_26848/2827958132.py\u001b[0m in \u001b[0;36m<module>\u001b[1;34m\u001b[0m\n\u001b[0;32m      1\u001b[0m \u001b[0mtfs\u001b[0m \u001b[1;33m=\u001b[0m \u001b[1;33m[\u001b[0m\u001b[0mtf_01\u001b[0m\u001b[1;33m,\u001b[0m \u001b[0mtf_02\u001b[0m\u001b[1;33m]\u001b[0m\u001b[1;33m\u001b[0m\u001b[1;33m\u001b[0m\u001b[0m\n\u001b[1;32m----> 2\u001b[1;33m \u001b[0midfs\u001b[0m \u001b[1;33m=\u001b[0m \u001b[0mcalculate_idf\u001b[0m\u001b[1;33m(\u001b[0m\u001b[0mtfs\u001b[0m\u001b[1;33m)\u001b[0m\u001b[1;33m\u001b[0m\u001b[1;33m\u001b[0m\u001b[0m\n\u001b[0m",
      "\u001b[1;32m~\\AppData\\Local\\Temp/ipykernel_26848/3079684619.py\u001b[0m in \u001b[0;36mcalculate_idf\u001b[1;34m(docs)\u001b[0m\n\u001b[0;32m      8\u001b[0m     \u001b[1;32mfor\u001b[0m \u001b[0mdoc\u001b[0m \u001b[1;32min\u001b[0m \u001b[0mdocs\u001b[0m\u001b[1;33m:\u001b[0m\u001b[1;33m\u001b[0m\u001b[1;33m\u001b[0m\u001b[0m\n\u001b[0;32m      9\u001b[0m         \u001b[1;32mfor\u001b[0m \u001b[0mword\u001b[0m\u001b[1;33m,\u001b[0m \u001b[0mval\u001b[0m \u001b[1;32min\u001b[0m \u001b[0mdoc\u001b[0m\u001b[1;33m.\u001b[0m\u001b[0mitems\u001b[0m\u001b[1;33m(\u001b[0m\u001b[1;33m)\u001b[0m\u001b[1;33m:\u001b[0m\u001b[1;33m\u001b[0m\u001b[1;33m\u001b[0m\u001b[0m\n\u001b[1;32m---> 10\u001b[1;33m             \u001b[1;32mif\u001b[0m \u001b[0mval\u001b[0m \u001b[1;33m>\u001b[0m \u001b[1;36m0\u001b[0m\u001b[1;33m:\u001b[0m\u001b[1;33m\u001b[0m\u001b[1;33m\u001b[0m\u001b[0m\n\u001b[0m\u001b[0;32m     11\u001b[0m                 \u001b[1;31m# TODO 2 - Increase the idf dictionary counter by one\u001b[0m\u001b[1;33m\u001b[0m\u001b[1;33m\u001b[0m\u001b[0m\n\u001b[0;32m     12\u001b[0m                 \u001b[1;33m...\u001b[0m\u001b[1;33m\u001b[0m\u001b[1;33m\u001b[0m\u001b[0m\n",
      "\u001b[1;31mTypeError\u001b[0m: '>' not supported between instances of 'ellipsis' and 'int'"
     ]
    }
   ],
   "source": [
    "tfs = [tf_01, tf_02]\n",
    "idfs = calculate_idf(tfs)"
   ]
  },
  {
   "cell_type": "markdown",
   "id": "posted-child",
   "metadata": {},
   "source": [
    "## Challenge 06\n",
    "And finally... the TFIDF calculation.\n",
    "\n",
    "Calculate the TFIDF for all the documents. Complete the `TODO X` section."
   ]
  },
  {
   "cell_type": "code",
   "execution_count": 22,
   "id": "frequent-superintendent",
   "metadata": {},
   "outputs": [],
   "source": [
    "\n",
    "def calculate_tfidf(tfs, idfs):\n",
    "    tfidf = {}\n",
    "\n",
    "    for word, val in tfs.items():\n",
    "        # TODO - Calculate and store the tfidf\n",
    "        ...\n",
    "\n",
    "    return tfidf"
   ]
  },
  {
   "cell_type": "markdown",
   "id": "growing-inspection",
   "metadata": {},
   "source": [
    "Let's test test the TFIDFs!"
   ]
  },
  {
   "cell_type": "code",
   "execution_count": 32,
   "id": "spectacular-portland",
   "metadata": {},
   "outputs": [
    {
     "ename": "NameError",
     "evalue": "name 'idfs' is not defined",
     "output_type": "error",
     "traceback": [
      "\u001b[1;31m---------------------------------------------------------------------------\u001b[0m",
      "\u001b[1;31mNameError\u001b[0m                                 Traceback (most recent call last)",
      "\u001b[1;32m~\\AppData\\Local\\Temp/ipykernel_26848/2551947567.py\u001b[0m in \u001b[0;36m<module>\u001b[1;34m\u001b[0m\n\u001b[1;32m----> 1\u001b[1;33m \u001b[0mtfidf_01\u001b[0m \u001b[1;33m=\u001b[0m \u001b[0mcalculate_tfidf\u001b[0m\u001b[1;33m(\u001b[0m\u001b[0mtf_01\u001b[0m\u001b[1;33m,\u001b[0m \u001b[0midfs\u001b[0m\u001b[1;33m)\u001b[0m\u001b[1;33m\u001b[0m\u001b[1;33m\u001b[0m\u001b[0m\n\u001b[0m\u001b[0;32m      2\u001b[0m \u001b[0mtfidf_02\u001b[0m \u001b[1;33m=\u001b[0m \u001b[0mcalculate_tfidf\u001b[0m\u001b[1;33m(\u001b[0m\u001b[0mtf_02\u001b[0m\u001b[1;33m,\u001b[0m \u001b[0midfs\u001b[0m\u001b[1;33m)\u001b[0m\u001b[1;33m\u001b[0m\u001b[1;33m\u001b[0m\u001b[0m\n\u001b[0;32m      3\u001b[0m \u001b[0mprint\u001b[0m\u001b[1;33m(\u001b[0m\u001b[1;34mf\"Trump: {tfidf_01}\"\u001b[0m\u001b[1;33m)\u001b[0m\u001b[1;33m\u001b[0m\u001b[1;33m\u001b[0m\u001b[0m\n\u001b[0;32m      4\u001b[0m \u001b[0mprint\u001b[0m\u001b[1;33m(\u001b[0m\u001b[1;34mf\"\\nObama: {tfidf_02}\"\u001b[0m\u001b[1;33m)\u001b[0m\u001b[1;33m\u001b[0m\u001b[1;33m\u001b[0m\u001b[0m\n",
      "\u001b[1;31mNameError\u001b[0m: name 'idfs' is not defined"
     ]
    }
   ],
   "source": [
    "tfidf_01 = calculate_tfidf(tf_01, idfs)\n",
    "tfidf_02 = calculate_tfidf(tf_02, idfs)\n",
    "print(f\"Trump: {tfidf_01}\")\n",
    "print(f\"\\nObama: {tfidf_02}\")"
   ]
  },
  {
   "cell_type": "markdown",
   "id": "genuine-performer",
   "metadata": {},
   "source": [
    "## Challenge 07\n",
    "Let's try it and then visualise it as a DataFrame!\n",
    "\n",
    "Try to fit the two dictionaries into a single DataFrame so that we can visualise it better. Complete the `TODO X` section."
   ]
  },
  {
   "cell_type": "code",
   "execution_count": 24,
   "id": "included-print",
   "metadata": {},
   "outputs": [
    {
     "data": {
      "text/plain": [
       "Ellipsis"
      ]
     },
     "execution_count": 24,
     "metadata": {},
     "output_type": "execute_result"
    }
   ],
   "source": [
    "import pandas as pd\n",
    "\n",
    "# TODO\n",
    "df = ...\n",
    "df"
   ]
  },
  {
   "cell_type": "markdown",
   "id": "placed-muscle",
   "metadata": {},
   "source": [
    "Now we have TFIDF feature vectors!"
   ]
  },
  {
   "cell_type": "markdown",
   "id": "union-bouquet",
   "metadata": {},
   "source": [
    "# Language Model Experiments\n",
    "Let's play with some popular n-gram language models. We are going to use NLTK again for that and try to predict the sequence of words.\n",
    "\n",
    "First, let's import some libraries."
   ]
  },
  {
   "cell_type": "code",
   "execution_count": 25,
   "id": "boring-bandwidth",
   "metadata": {},
   "outputs": [],
   "source": [
    "from nltk.corpus import gutenberg\n",
    "from nltk.lm import WittenBellInterpolated, MLE, Laplace\n",
    "from nltk.util import ngrams, pad_sequence, everygrams"
   ]
  },
  {
   "cell_type": "markdown",
   "id": "signed-insulin",
   "metadata": {},
   "source": [
    "Next we will build a function that performs the prediction based on MLE"
   ]
  },
  {
   "cell_type": "code",
   "execution_count": 26,
   "id": "changing-standard",
   "metadata": {},
   "outputs": [],
   "source": [
    "def build_mle_estimator(doc_name, n):\n",
    "    # Construct a list of lowercase words from the document\n",
    "    words = [w.lower() for w in inaugural.words(doc_name)]\n",
    "    \n",
    "    # generate ngrams\n",
    "    ngrams = list(everygrams(words, max_len=n))\n",
    "\n",
    "    # build ngram language models\n",
    "    lm = MLE(n)\n",
    "    lm.fit([ngrams], vocabulary_text=words)\n",
    "    print(lm.vocab)\n",
    "    \n",
    "    return lm"
   ]
  },
  {
   "cell_type": "markdown",
   "id": "social-thriller",
   "metadata": {},
   "source": [
    "Build the estimator first."
   ]
  },
  {
   "cell_type": "code",
   "execution_count": 27,
   "id": "silver-thousand",
   "metadata": {},
   "outputs": [
    {
     "name": "stdout",
     "output_type": "stream",
     "text": [
      "<Vocabulary with cutoff=1 unk_label='<UNK>' and 548 items>\n"
     ]
    }
   ],
   "source": [
    "lm = build_mle_estimator(\"2017-Trump.txt\", 2)"
   ]
  },
  {
   "cell_type": "markdown",
   "id": "forward-stevens",
   "metadata": {},
   "source": [
    "Now let's try it!"
   ]
  },
  {
   "cell_type": "code",
   "execution_count": 28,
   "id": "african-charlotte",
   "metadata": {},
   "outputs": [
    {
     "name": "stdout",
     "output_type": "stream",
     "text": [
      "Probability of 'first' followed by 'america': 0.00000\n",
      "Probability of 'america' followed by 'first': 0.10000\n",
      "Probability of 'you' followed by 'thank': 0.00000\n",
      "Probability of 'thank' followed by 'you': 1.00000\n"
     ]
    }
   ],
   "source": [
    "def print_lm_scores(lm):\n",
    "    print(f\"Probability of 'first' followed by 'america': {lm.score(word='america', context=['first']):.5f}\")\n",
    "    print(f\"Probability of 'america' followed by 'first': {lm.score(word='first', context=['america']):.5f}\")\n",
    "\n",
    "    print(f\"Probability of 'you' followed by 'thank': {lm.score(word='thank', context=['you']):.5f}\")\n",
    "    print(f\"Probability of 'thank' followed by 'you': {lm.score(word='you', context=['thank']):.5f}\")\n",
    "\n",
    "print_lm_scores(lm)"
   ]
  },
  {
   "cell_type": "markdown",
   "id": "hybrid-passion",
   "metadata": {},
   "source": [
    "## Challenge 08\n",
    "Try an add-one Laplace smoothing model instead."
   ]
  },
  {
   "cell_type": "code",
   "execution_count": 29,
   "id": "environmental-little",
   "metadata": {},
   "outputs": [],
   "source": [
    "def build_laplace_estimator(doc_name, n):\n",
    "    # TODO - Implement a function simlar to `build_mle_estimator` that instead uses an add-one Laplace smoothing model.\n",
    "    # Hint: you might want to check the NLTK documentation (https://www.nltk.org/api/nltk.lm.html) on that!\n",
    "    ...\n",
    "\n",
    "    return lm"
   ]
  },
  {
   "cell_type": "markdown",
   "id": "preceding-board",
   "metadata": {},
   "source": [
    "Build this estimator as well."
   ]
  },
  {
   "cell_type": "code",
   "execution_count": 30,
   "id": "august-soundtrack",
   "metadata": {},
   "outputs": [],
   "source": [
    "lm2 = build_laplace_estimator('2017-Trump.txt', 2)"
   ]
  },
  {
   "cell_type": "markdown",
   "id": "distinct-dining",
   "metadata": {},
   "source": [
    "Now test it and observe any differences in the results."
   ]
  },
  {
   "cell_type": "code",
   "execution_count": 31,
   "id": "steady-flush",
   "metadata": {},
   "outputs": [
    {
     "name": "stdout",
     "output_type": "stream",
     "text": [
      "Probability of 'first' followed by 'america': 0.00000\n",
      "Probability of 'america' followed by 'first': 0.10000\n",
      "Probability of 'you' followed by 'thank': 0.00000\n",
      "Probability of 'thank' followed by 'you': 1.00000\n"
     ]
    }
   ],
   "source": [
    "print_lm_scores(lm2)"
   ]
  },
  {
   "cell_type": "code",
   "execution_count": null,
   "id": "a6188a53-2fa5-4229-9156-e20734ddb7f9",
   "metadata": {},
   "outputs": [],
   "source": []
  }
 ],
 "metadata": {
  "kernelspec": {
   "display_name": "Python 3 (ipykernel)",
   "language": "python",
   "name": "python3"
  },
  "language_info": {
   "codemirror_mode": {
    "name": "ipython",
    "version": 3
   },
   "file_extension": ".py",
   "mimetype": "text/x-python",
   "name": "python",
   "nbconvert_exporter": "python",
   "pygments_lexer": "ipython3",
   "version": "3.9.7"
  }
 },
 "nbformat": 4,
 "nbformat_minor": 5
}
